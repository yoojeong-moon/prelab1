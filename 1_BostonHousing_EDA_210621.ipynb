{
  "nbformat": 4,
  "nbformat_minor": 0,
  "metadata": {
    "kernelspec": {
      "display_name": "Python 3",
      "language": "python",
      "name": "python3"
    },
    "language_info": {
      "codemirror_mode": {
        "name": "ipython",
        "version": 3
      },
      "file_extension": ".py",
      "mimetype": "text/x-python",
      "name": "python",
      "nbconvert_exporter": "python",
      "pygments_lexer": "ipython3",
      "version": "3.7.6"
    },
    "colab": {
      "name": "1.BostonHousing_EDA_210621.ipynb",
      "provenance": [],
      "collapsed_sections": [],
      "include_colab_link": true
    }
  },
  "cells": [
    {
      "cell_type": "markdown",
      "metadata": {
        "id": "view-in-github",
        "colab_type": "text"
      },
      "source": [
        "<a href=\"https://colab.research.google.com/github/yoojeong-moon/prelab1/blob/main/1_BostonHousing_EDA_210621.ipynb\" target=\"_parent\"><img src=\"https://colab.research.google.com/assets/colab-badge.svg\" alt=\"Open In Colab\"/></a>"
      ]
    },
    {
      "cell_type": "markdown",
      "metadata": {
        "id": "0Pq14nNCKp_u"
      },
      "source": [
        "# Boston House Prices : EDA "
      ]
    },
    {
      "cell_type": "code",
      "metadata": {
        "id": "dT2IoCtTKp_x"
      },
      "source": [
        "import numpy as np\n",
        "import pandas as pd\n",
        "import matplotlib.pyplot as plt\n",
        "import seaborn as sns"
      ],
      "execution_count": 1,
      "outputs": []
    },
    {
      "cell_type": "markdown",
      "metadata": {
        "id": "L5JMTDGXKp_y"
      },
      "source": [
        "# Reading the dataset"
      ]
    },
    {
      "cell_type": "code",
      "metadata": {
        "id": "v_XYw6h6OqQW",
        "colab": {
          "base_uri": "https://localhost:8080/"
        },
        "outputId": "2b9ff4e6-cc31-4659-a6d7-c63a5004e874"
      },
      "source": [
        "from google.colab import drive\n",
        "drive.mount('/content/drive')"
      ],
      "execution_count": 2,
      "outputs": [
        {
          "output_type": "stream",
          "text": [
            "Mounted at /content/drive\n"
          ],
          "name": "stdout"
        }
      ]
    },
    {
      "cell_type": "code",
      "metadata": {
        "id": "4CI-GuzYKp_z"
      },
      "source": [
        "# df = pd.read_csv('/content/drive/MyDrive/bq-results-20210613-140043-bdo0aiat1o6a/bq-results-20210613-140043-bdo0aiat1o6a.csv')\n",
        "df = pd.read_csv('/content/drive/MyDrive/Colab Notebooks/Hard_Melbourne2.csv')\n",
        "original = df"
      ],
      "execution_count": 3,
      "outputs": []
    },
    {
      "cell_type": "markdown",
      "metadata": {
        "id": "jse7VcgZhB-Y"
      },
      "source": [
        "# Data 구조 파악"
      ]
    },
    {
      "cell_type": "code",
      "metadata": {
        "colab": {
          "base_uri": "https://localhost:8080/",
          "height": 388
        },
        "id": "zBZY0IWWKp_0",
        "outputId": "e356905c-2cb9-48b2-b3b7-e6be00d4fd4d"
      },
      "source": [
        "df.head()"
      ],
      "execution_count": 4,
      "outputs": [
        {
          "output_type": "execute_result",
          "data": {
            "text/html": [
              "<div>\n",
              "<style scoped>\n",
              "    .dataframe tbody tr th:only-of-type {\n",
              "        vertical-align: middle;\n",
              "    }\n",
              "\n",
              "    .dataframe tbody tr th {\n",
              "        vertical-align: top;\n",
              "    }\n",
              "\n",
              "    .dataframe thead th {\n",
              "        text-align: right;\n",
              "    }\n",
              "</style>\n",
              "<table border=\"1\" class=\"dataframe\">\n",
              "  <thead>\n",
              "    <tr style=\"text-align: right;\">\n",
              "      <th></th>\n",
              "      <th>Suburb</th>\n",
              "      <th>Address</th>\n",
              "      <th>Rooms</th>\n",
              "      <th>Type</th>\n",
              "      <th>Price</th>\n",
              "      <th>Method</th>\n",
              "      <th>SellerG</th>\n",
              "      <th>Date</th>\n",
              "      <th>Distance</th>\n",
              "      <th>Postcode</th>\n",
              "      <th>Bedroom2</th>\n",
              "      <th>Bathroom</th>\n",
              "      <th>Car</th>\n",
              "      <th>Landsize</th>\n",
              "      <th>BuildingArea</th>\n",
              "      <th>YearBuilt</th>\n",
              "      <th>CouncilArea</th>\n",
              "      <th>Lattitude</th>\n",
              "      <th>Longtitude</th>\n",
              "      <th>Regionname</th>\n",
              "      <th>Propertycount</th>\n",
              "      <th>Description</th>\n",
              "    </tr>\n",
              "  </thead>\n",
              "  <tbody>\n",
              "    <tr>\n",
              "      <th>0</th>\n",
              "      <td>Abbotsford</td>\n",
              "      <td>68 Studley St</td>\n",
              "      <td>2</td>\n",
              "      <td>h</td>\n",
              "      <td>NaN</td>\n",
              "      <td>SS</td>\n",
              "      <td>Jellis</td>\n",
              "      <td>03-09-2016</td>\n",
              "      <td>2.5</td>\n",
              "      <td>3067.0</td>\n",
              "      <td>2.0</td>\n",
              "      <td>1.0</td>\n",
              "      <td>1.0</td>\n",
              "      <td>126.0</td>\n",
              "      <td>NaN</td>\n",
              "      <td>NaN</td>\n",
              "      <td>Yarra</td>\n",
              "      <td>-37.8014</td>\n",
              "      <td>144.9958</td>\n",
              "      <td>Northern Metropolitan</td>\n",
              "      <td>4019.0</td>\n",
              "      <td>NaN</td>\n",
              "    </tr>\n",
              "    <tr>\n",
              "      <th>1</th>\n",
              "      <td>Abbotsford</td>\n",
              "      <td>85 Turner St</td>\n",
              "      <td>2</td>\n",
              "      <td>h</td>\n",
              "      <td>1480000.0</td>\n",
              "      <td>S</td>\n",
              "      <td>Biggin</td>\n",
              "      <td>03-12-2016</td>\n",
              "      <td>2.5</td>\n",
              "      <td>3067.0</td>\n",
              "      <td>2.0</td>\n",
              "      <td>1.0</td>\n",
              "      <td>1.0</td>\n",
              "      <td>202.0</td>\n",
              "      <td>NaN</td>\n",
              "      <td>NaN</td>\n",
              "      <td>Yarra</td>\n",
              "      <td>-37.7996</td>\n",
              "      <td>144.9984</td>\n",
              "      <td>Northern Metropolitan</td>\n",
              "      <td>4019.0</td>\n",
              "      <td>NaN</td>\n",
              "    </tr>\n",
              "    <tr>\n",
              "      <th>2</th>\n",
              "      <td>Abbotsford</td>\n",
              "      <td>25 Bloomburg St</td>\n",
              "      <td>2</td>\n",
              "      <td>h</td>\n",
              "      <td>1035000.0</td>\n",
              "      <td>S</td>\n",
              "      <td>Biggin</td>\n",
              "      <td>04-02-2016</td>\n",
              "      <td>2.5</td>\n",
              "      <td>3067.0</td>\n",
              "      <td>2.0</td>\n",
              "      <td>1.0</td>\n",
              "      <td>0.0</td>\n",
              "      <td>156.0</td>\n",
              "      <td>79.0</td>\n",
              "      <td>1900.0</td>\n",
              "      <td>Yarra</td>\n",
              "      <td>-37.8079</td>\n",
              "      <td>144.9934</td>\n",
              "      <td>Northern Metropolitan</td>\n",
              "      <td>4019.0</td>\n",
              "      <td>NaN</td>\n",
              "    </tr>\n",
              "    <tr>\n",
              "      <th>3</th>\n",
              "      <td>Abbotsford</td>\n",
              "      <td>18/659 Victoria St</td>\n",
              "      <td>3</td>\n",
              "      <td>u</td>\n",
              "      <td>NaN</td>\n",
              "      <td>VB</td>\n",
              "      <td>Rounds</td>\n",
              "      <td>04-02-2016</td>\n",
              "      <td>2.5</td>\n",
              "      <td>3067.0</td>\n",
              "      <td>3.0</td>\n",
              "      <td>2.0</td>\n",
              "      <td>1.0</td>\n",
              "      <td>0.0</td>\n",
              "      <td>NaN</td>\n",
              "      <td>NaN</td>\n",
              "      <td>Yarra</td>\n",
              "      <td>-37.8114</td>\n",
              "      <td>145.0116</td>\n",
              "      <td>Northern Metropolitan</td>\n",
              "      <td>4019.0</td>\n",
              "      <td>NaN</td>\n",
              "    </tr>\n",
              "    <tr>\n",
              "      <th>4</th>\n",
              "      <td>Abbotsford</td>\n",
              "      <td>5 Charles St</td>\n",
              "      <td>3</td>\n",
              "      <td>h</td>\n",
              "      <td>1465000.0</td>\n",
              "      <td>SP</td>\n",
              "      <td>Biggin</td>\n",
              "      <td>04-03-2017</td>\n",
              "      <td>2.5</td>\n",
              "      <td>3067.0</td>\n",
              "      <td>3.0</td>\n",
              "      <td>2.0</td>\n",
              "      <td>0.0</td>\n",
              "      <td>134.0</td>\n",
              "      <td>150.0</td>\n",
              "      <td>1900.0</td>\n",
              "      <td>Yarra</td>\n",
              "      <td>-37.8093</td>\n",
              "      <td>144.9944</td>\n",
              "      <td>Northern Metropolitan</td>\n",
              "      <td>4019.0</td>\n",
              "      <td>NaN</td>\n",
              "    </tr>\n",
              "  </tbody>\n",
              "</table>\n",
              "</div>"
            ],
            "text/plain": [
              "       Suburb             Address  ...  Propertycount Description\n",
              "0  Abbotsford       68 Studley St  ...         4019.0         NaN\n",
              "1  Abbotsford        85 Turner St  ...         4019.0         NaN\n",
              "2  Abbotsford     25 Bloomburg St  ...         4019.0         NaN\n",
              "3  Abbotsford  18/659 Victoria St  ...         4019.0         NaN\n",
              "4  Abbotsford        5 Charles St  ...         4019.0         NaN\n",
              "\n",
              "[5 rows x 22 columns]"
            ]
          },
          "metadata": {
            "tags": []
          },
          "execution_count": 4
        }
      ]
    },
    {
      "cell_type": "code",
      "metadata": {
        "colab": {
          "base_uri": "https://localhost:8080/",
          "height": 388
        },
        "id": "m0XFi1ZHQwLa",
        "outputId": "66f3e86c-bb69-454d-883a-0390a6cfa24d"
      },
      "source": [
        "df.tail()"
      ],
      "execution_count": 5,
      "outputs": [
        {
          "output_type": "execute_result",
          "data": {
            "text/html": [
              "<div>\n",
              "<style scoped>\n",
              "    .dataframe tbody tr th:only-of-type {\n",
              "        vertical-align: middle;\n",
              "    }\n",
              "\n",
              "    .dataframe tbody tr th {\n",
              "        vertical-align: top;\n",
              "    }\n",
              "\n",
              "    .dataframe thead th {\n",
              "        text-align: right;\n",
              "    }\n",
              "</style>\n",
              "<table border=\"1\" class=\"dataframe\">\n",
              "  <thead>\n",
              "    <tr style=\"text-align: right;\">\n",
              "      <th></th>\n",
              "      <th>Suburb</th>\n",
              "      <th>Address</th>\n",
              "      <th>Rooms</th>\n",
              "      <th>Type</th>\n",
              "      <th>Price</th>\n",
              "      <th>Method</th>\n",
              "      <th>SellerG</th>\n",
              "      <th>Date</th>\n",
              "      <th>Distance</th>\n",
              "      <th>Postcode</th>\n",
              "      <th>Bedroom2</th>\n",
              "      <th>Bathroom</th>\n",
              "      <th>Car</th>\n",
              "      <th>Landsize</th>\n",
              "      <th>BuildingArea</th>\n",
              "      <th>YearBuilt</th>\n",
              "      <th>CouncilArea</th>\n",
              "      <th>Lattitude</th>\n",
              "      <th>Longtitude</th>\n",
              "      <th>Regionname</th>\n",
              "      <th>Propertycount</th>\n",
              "      <th>Description</th>\n",
              "    </tr>\n",
              "  </thead>\n",
              "  <tbody>\n",
              "    <tr>\n",
              "      <th>23542</th>\n",
              "      <td>Wyndham Vale</td>\n",
              "      <td>25 Clitheroe Dr</td>\n",
              "      <td>3</td>\n",
              "      <td>u</td>\n",
              "      <td>NaN</td>\n",
              "      <td>PN</td>\n",
              "      <td>Harcourts</td>\n",
              "      <td>26-08-2017</td>\n",
              "      <td>27.2</td>\n",
              "      <td>3024.0</td>\n",
              "      <td>3.0</td>\n",
              "      <td>1.0</td>\n",
              "      <td>0.0</td>\n",
              "      <td>552.0</td>\n",
              "      <td>119.0</td>\n",
              "      <td>1990.0</td>\n",
              "      <td>NaN</td>\n",
              "      <td>-37.90032</td>\n",
              "      <td>144.61839</td>\n",
              "      <td>Western Metropolitan</td>\n",
              "      <td>5262.0</td>\n",
              "      <td>NaN</td>\n",
              "    </tr>\n",
              "    <tr>\n",
              "      <th>23543</th>\n",
              "      <td>Wyndham Vale</td>\n",
              "      <td>19 Dalrymple Bvd</td>\n",
              "      <td>4</td>\n",
              "      <td>h</td>\n",
              "      <td>NaN</td>\n",
              "      <td>S</td>\n",
              "      <td>hockingstuart</td>\n",
              "      <td>26-08-2017</td>\n",
              "      <td>27.2</td>\n",
              "      <td>3024.0</td>\n",
              "      <td>NaN</td>\n",
              "      <td>NaN</td>\n",
              "      <td>NaN</td>\n",
              "      <td>NaN</td>\n",
              "      <td>NaN</td>\n",
              "      <td>NaN</td>\n",
              "      <td>NaN</td>\n",
              "      <td>-37.87882</td>\n",
              "      <td>144.60184</td>\n",
              "      <td>Western Metropolitan</td>\n",
              "      <td>5262.0</td>\n",
              "      <td>NaN</td>\n",
              "    </tr>\n",
              "    <tr>\n",
              "      <th>23544</th>\n",
              "      <td>Yallambie</td>\n",
              "      <td>17 Amaroo Wy</td>\n",
              "      <td>4</td>\n",
              "      <td>h</td>\n",
              "      <td>1100000.0</td>\n",
              "      <td>S</td>\n",
              "      <td>Buckingham</td>\n",
              "      <td>26-08-2017</td>\n",
              "      <td>12.7</td>\n",
              "      <td>3085.0</td>\n",
              "      <td>4.0</td>\n",
              "      <td>3.0</td>\n",
              "      <td>2.0</td>\n",
              "      <td>NaN</td>\n",
              "      <td>NaN</td>\n",
              "      <td>NaN</td>\n",
              "      <td>NaN</td>\n",
              "      <td>-37.72006</td>\n",
              "      <td>145.10547</td>\n",
              "      <td>Northern Metropolitan</td>\n",
              "      <td>1369.0</td>\n",
              "      <td>NaN</td>\n",
              "    </tr>\n",
              "    <tr>\n",
              "      <th>23545</th>\n",
              "      <td>Yarraville</td>\n",
              "      <td>6 Agnes St</td>\n",
              "      <td>4</td>\n",
              "      <td>h</td>\n",
              "      <td>1285000.0</td>\n",
              "      <td>SP</td>\n",
              "      <td>Village</td>\n",
              "      <td>26-08-2017</td>\n",
              "      <td>6.3</td>\n",
              "      <td>3013.0</td>\n",
              "      <td>4.0</td>\n",
              "      <td>1.0</td>\n",
              "      <td>1.0</td>\n",
              "      <td>362.0</td>\n",
              "      <td>112.0</td>\n",
              "      <td>1920.0</td>\n",
              "      <td>NaN</td>\n",
              "      <td>-37.81188</td>\n",
              "      <td>144.88449</td>\n",
              "      <td>Western Metropolitan</td>\n",
              "      <td>6543.0</td>\n",
              "      <td>NaN</td>\n",
              "    </tr>\n",
              "    <tr>\n",
              "      <th>23546</th>\n",
              "      <td>Yarraville</td>\n",
              "      <td>33 Freeman St</td>\n",
              "      <td>4</td>\n",
              "      <td>h</td>\n",
              "      <td>1050000.0</td>\n",
              "      <td>VB</td>\n",
              "      <td>Village</td>\n",
              "      <td>26-08-2017</td>\n",
              "      <td>6.3</td>\n",
              "      <td>3013.0</td>\n",
              "      <td>4.0</td>\n",
              "      <td>2.0</td>\n",
              "      <td>2.0</td>\n",
              "      <td>NaN</td>\n",
              "      <td>139.0</td>\n",
              "      <td>1950.0</td>\n",
              "      <td>NaN</td>\n",
              "      <td>-37.81829</td>\n",
              "      <td>144.87404</td>\n",
              "      <td>Western Metropolitan</td>\n",
              "      <td>6543.0</td>\n",
              "      <td>NaN</td>\n",
              "    </tr>\n",
              "  </tbody>\n",
              "</table>\n",
              "</div>"
            ],
            "text/plain": [
              "             Suburb           Address  ...  Propertycount Description\n",
              "23542  Wyndham Vale   25 Clitheroe Dr  ...         5262.0         NaN\n",
              "23543  Wyndham Vale  19 Dalrymple Bvd  ...         5262.0         NaN\n",
              "23544     Yallambie      17 Amaroo Wy  ...         1369.0         NaN\n",
              "23545    Yarraville        6 Agnes St  ...         6543.0         NaN\n",
              "23546    Yarraville     33 Freeman St  ...         6543.0         NaN\n",
              "\n",
              "[5 rows x 22 columns]"
            ]
          },
          "metadata": {
            "tags": []
          },
          "execution_count": 5
        }
      ]
    },
    {
      "cell_type": "code",
      "metadata": {
        "colab": {
          "base_uri": "https://localhost:8080/"
        },
        "id": "pIuJCMSTKp_1",
        "outputId": "0b74b548-5d3c-464a-b2d8-7186f817e7e4"
      },
      "source": [
        "df.shape"
      ],
      "execution_count": 6,
      "outputs": [
        {
          "output_type": "execute_result",
          "data": {
            "text/plain": [
              "(23547, 22)"
            ]
          },
          "metadata": {
            "tags": []
          },
          "execution_count": 6
        }
      ]
    },
    {
      "cell_type": "code",
      "metadata": {
        "colab": {
          "base_uri": "https://localhost:8080/"
        },
        "id": "j3DdmCd7Kp_2",
        "outputId": "922f3a9e-7073-4319-8963-4392a4a8cbb9"
      },
      "source": [
        "df.columns"
      ],
      "execution_count": 7,
      "outputs": [
        {
          "output_type": "execute_result",
          "data": {
            "text/plain": [
              "Index(['Suburb', 'Address', 'Rooms', 'Type', 'Price', 'Method', 'SellerG',\n",
              "       'Date', 'Distance', 'Postcode', 'Bedroom2', 'Bathroom', 'Car',\n",
              "       'Landsize', 'BuildingArea', 'YearBuilt', 'CouncilArea', 'Lattitude',\n",
              "       'Longtitude', 'Regionname', 'Propertycount', 'Description'],\n",
              "      dtype='object')"
            ]
          },
          "metadata": {
            "tags": []
          },
          "execution_count": 7
        }
      ]
    },
    {
      "cell_type": "code",
      "metadata": {
        "colab": {
          "base_uri": "https://localhost:8080/"
        },
        "id": "tl7bVr8hKp_2",
        "outputId": "f3a214ce-e73d-496b-fa98-a90e5033fd55"
      },
      "source": [
        "df.info()\n",
        "\n",
        "\n",
        "# non-null : Suburb, Address, Rooms, Type, Method, SellerG, Date"
      ],
      "execution_count": 8,
      "outputs": [
        {
          "output_type": "stream",
          "text": [
            "<class 'pandas.core.frame.DataFrame'>\n",
            "RangeIndex: 23547 entries, 0 to 23546\n",
            "Data columns (total 22 columns):\n",
            " #   Column         Non-Null Count  Dtype  \n",
            "---  ------         --------------  -----  \n",
            " 0   Suburb         23547 non-null  object \n",
            " 1   Address        23547 non-null  object \n",
            " 2   Rooms          23547 non-null  int64  \n",
            " 3   Type           23547 non-null  object \n",
            " 4   Price          18396 non-null  float64\n",
            " 5   Method         23547 non-null  object \n",
            " 6   SellerG        23547 non-null  object \n",
            " 7   Date           23547 non-null  object \n",
            " 8   Distance       23546 non-null  float64\n",
            " 9   Postcode       23546 non-null  float64\n",
            " 10  Bedroom2       19066 non-null  float64\n",
            " 11  Bathroom       19063 non-null  float64\n",
            " 12  Car            18921 non-null  float64\n",
            " 13  Landsize       17410 non-null  float64\n",
            " 14  BuildingArea   10018 non-null  float64\n",
            " 15  YearBuilt      11540 non-null  float64\n",
            " 16  CouncilArea    15656 non-null  object \n",
            " 17  Lattitude      19243 non-null  float64\n",
            " 18  Longtitude     19243 non-null  float64\n",
            " 19  Regionname     23546 non-null  object \n",
            " 20  Propertycount  23546 non-null  float64\n",
            " 21  Description    0 non-null      float64\n",
            "dtypes: float64(13), int64(1), object(8)\n",
            "memory usage: 4.0+ MB\n"
          ],
          "name": "stdout"
        }
      ]
    },
    {
      "cell_type": "code",
      "metadata": {
        "colab": {
          "base_uri": "https://localhost:8080/",
          "height": 294
        },
        "id": "yo1Q3jrPprwE",
        "outputId": "03707cb2-92ce-40a2-fa95-10663daa7889"
      },
      "source": [
        "df.describe()"
      ],
      "execution_count": null,
      "outputs": [
        {
          "output_type": "execute_result",
          "data": {
            "text/html": [
              "<div>\n",
              "<style scoped>\n",
              "    .dataframe tbody tr th:only-of-type {\n",
              "        vertical-align: middle;\n",
              "    }\n",
              "\n",
              "    .dataframe tbody tr th {\n",
              "        vertical-align: top;\n",
              "    }\n",
              "\n",
              "    .dataframe thead th {\n",
              "        text-align: right;\n",
              "    }\n",
              "</style>\n",
              "<table border=\"1\" class=\"dataframe\">\n",
              "  <thead>\n",
              "    <tr style=\"text-align: right;\">\n",
              "      <th></th>\n",
              "      <th>Rooms</th>\n",
              "      <th>Price</th>\n",
              "      <th>Distance</th>\n",
              "      <th>Postcode</th>\n",
              "      <th>Bedroom2</th>\n",
              "      <th>Bathroom</th>\n",
              "      <th>Car</th>\n",
              "      <th>Landsize</th>\n",
              "      <th>BuildingArea</th>\n",
              "      <th>YearBuilt</th>\n",
              "      <th>Lattitude</th>\n",
              "      <th>Longtitude</th>\n",
              "      <th>Propertycount</th>\n",
              "      <th>Description</th>\n",
              "    </tr>\n",
              "  </thead>\n",
              "  <tbody>\n",
              "    <tr>\n",
              "      <th>count</th>\n",
              "      <td>23547.000000</td>\n",
              "      <td>1.839600e+04</td>\n",
              "      <td>23546.000000</td>\n",
              "      <td>23546.000000</td>\n",
              "      <td>19066.000000</td>\n",
              "      <td>19063.000000</td>\n",
              "      <td>18921.000000</td>\n",
              "      <td>17410.000000</td>\n",
              "      <td>10018.000000</td>\n",
              "      <td>11540.000000</td>\n",
              "      <td>19243.000000</td>\n",
              "      <td>19243.000000</td>\n",
              "      <td>23546.000000</td>\n",
              "      <td>0.0</td>\n",
              "    </tr>\n",
              "    <tr>\n",
              "      <th>mean</th>\n",
              "      <td>2.981102</td>\n",
              "      <td>1.056697e+06</td>\n",
              "      <td>10.304222</td>\n",
              "      <td>3109.782893</td>\n",
              "      <td>2.951956</td>\n",
              "      <td>1.570897</td>\n",
              "      <td>1.626235</td>\n",
              "      <td>551.783458</td>\n",
              "      <td>154.527895</td>\n",
              "      <td>1964.636742</td>\n",
              "      <td>-37.812434</td>\n",
              "      <td>145.000287</td>\n",
              "      <td>7517.480591</td>\n",
              "      <td>NaN</td>\n",
              "    </tr>\n",
              "    <tr>\n",
              "      <th>std</th>\n",
              "      <td>1.237364</td>\n",
              "      <td>6.419217e+05</td>\n",
              "      <td>6.019455</td>\n",
              "      <td>94.522190</td>\n",
              "      <td>0.996032</td>\n",
              "      <td>0.712684</td>\n",
              "      <td>0.974048</td>\n",
              "      <td>3544.288014</td>\n",
              "      <td>462.535765</td>\n",
              "      <td>37.595504</td>\n",
              "      <td>0.079926</td>\n",
              "      <td>0.106071</td>\n",
              "      <td>4414.995634</td>\n",
              "      <td>NaN</td>\n",
              "    </tr>\n",
              "    <tr>\n",
              "      <th>min</th>\n",
              "      <td>1.000000</td>\n",
              "      <td>8.500000e+04</td>\n",
              "      <td>-13.900000</td>\n",
              "      <td>3000.000000</td>\n",
              "      <td>0.000000</td>\n",
              "      <td>0.000000</td>\n",
              "      <td>0.000000</td>\n",
              "      <td>0.000000</td>\n",
              "      <td>0.000000</td>\n",
              "      <td>1196.000000</td>\n",
              "      <td>-38.184180</td>\n",
              "      <td>144.431620</td>\n",
              "      <td>129.000000</td>\n",
              "      <td>NaN</td>\n",
              "    </tr>\n",
              "    <tr>\n",
              "      <th>25%</th>\n",
              "      <td>2.000000</td>\n",
              "      <td>6.330000e+05</td>\n",
              "      <td>6.200000</td>\n",
              "      <td>3047.000000</td>\n",
              "      <td>2.000000</td>\n",
              "      <td>1.000000</td>\n",
              "      <td>1.000000</td>\n",
              "      <td>181.000000</td>\n",
              "      <td>95.000000</td>\n",
              "      <td>1940.000000</td>\n",
              "      <td>-37.859300</td>\n",
              "      <td>144.939300</td>\n",
              "      <td>4385.000000</td>\n",
              "      <td>NaN</td>\n",
              "    </tr>\n",
              "    <tr>\n",
              "      <th>50%</th>\n",
              "      <td>3.000000</td>\n",
              "      <td>8.800000e+05</td>\n",
              "      <td>9.500000</td>\n",
              "      <td>3101.000000</td>\n",
              "      <td>3.000000</td>\n",
              "      <td>1.000000</td>\n",
              "      <td>2.000000</td>\n",
              "      <td>448.000000</td>\n",
              "      <td>129.000000</td>\n",
              "      <td>1970.000000</td>\n",
              "      <td>-37.809700</td>\n",
              "      <td>145.004300</td>\n",
              "      <td>6567.000000</td>\n",
              "      <td>NaN</td>\n",
              "    </tr>\n",
              "    <tr>\n",
              "      <th>75%</th>\n",
              "      <td>4.000000</td>\n",
              "      <td>1.302000e+06</td>\n",
              "      <td>13.000000</td>\n",
              "      <td>3150.000000</td>\n",
              "      <td>4.000000</td>\n",
              "      <td>2.000000</td>\n",
              "      <td>2.000000</td>\n",
              "      <td>656.000000</td>\n",
              "      <td>180.000000</td>\n",
              "      <td>2000.000000</td>\n",
              "      <td>-37.759800</td>\n",
              "      <td>145.063100</td>\n",
              "      <td>10331.000000</td>\n",
              "      <td>NaN</td>\n",
              "    </tr>\n",
              "    <tr>\n",
              "      <th>max</th>\n",
              "      <td>120.000000</td>\n",
              "      <td>9.000000e+06</td>\n",
              "      <td>48.100000</td>\n",
              "      <td>3978.000000</td>\n",
              "      <td>30.000000</td>\n",
              "      <td>12.000000</td>\n",
              "      <td>26.000000</td>\n",
              "      <td>433014.000000</td>\n",
              "      <td>44515.000000</td>\n",
              "      <td>2106.000000</td>\n",
              "      <td>-37.407580</td>\n",
              "      <td>145.526350</td>\n",
              "      <td>21650.000000</td>\n",
              "      <td>NaN</td>\n",
              "    </tr>\n",
              "  </tbody>\n",
              "</table>\n",
              "</div>"
            ],
            "text/plain": [
              "              Rooms         Price  ...  Propertycount  Description\n",
              "count  23547.000000  1.839600e+04  ...   23546.000000          0.0\n",
              "mean       2.981102  1.056697e+06  ...    7517.480591          NaN\n",
              "std        1.237364  6.419217e+05  ...    4414.995634          NaN\n",
              "min        1.000000  8.500000e+04  ...     129.000000          NaN\n",
              "25%        2.000000  6.330000e+05  ...    4385.000000          NaN\n",
              "50%        3.000000  8.800000e+05  ...    6567.000000          NaN\n",
              "75%        4.000000  1.302000e+06  ...   10331.000000          NaN\n",
              "max      120.000000  9.000000e+06  ...   21650.000000          NaN\n",
              "\n",
              "[8 rows x 14 columns]"
            ]
          },
          "metadata": {
            "tags": []
          },
          "execution_count": 10
        }
      ]
    },
    {
      "cell_type": "markdown",
      "metadata": {
        "id": "jI2w6QFQmyM3"
      },
      "source": [
        "# Visualization for EDA"
      ]
    },
    {
      "cell_type": "markdown",
      "metadata": {
        "id": "7JpsAmiapzHB"
      },
      "source": [
        "## Histogram"
      ]
    },
    {
      "cell_type": "code",
      "metadata": {
        "colab": {
          "base_uri": "https://localhost:8080/",
          "height": 498
        },
        "id": "wOgL6AccltMF",
        "outputId": "11e638d6-b85d-4fb3-934e-5d6f7475aab5"
      },
      "source": [
        "plt.rcParams['figure.figsize'] = [14, 8]\n",
        "\n",
        "hist = df.hist()"
      ],
      "execution_count": null,
      "outputs": [
        {
          "output_type": "display_data",
          "data": {
            "image/png": "[encoded data removed]",
            "text/plain": [
              "<Figure size 1008x576 with 16 Axes>"
            ]
          },
          "metadata": {
            "tags": [],
            "needs_background": "light"
          }
        }
      ]
    },
    {
      "cell_type": "markdown",
      "metadata": {
        "id": "hRDgtEbGhhym"
      },
      "source": [
        "## Feature Selection - Variables of Corrleation >= 0.3\n"
      ]
    },
    {
      "cell_type": "code",
      "metadata": {
        "colab": {
          "base_uri": "https://localhost:8080/",
          "height": 595
        },
        "id": "gHQmj3vnhjr1",
        "outputId": "d824f083-29f7-48e2-feab-50ca74dd1ea8"
      },
      "source": [
        "corrmat = df.corr()\n",
        "top_corr_features = corrmat.index[abs(corrmat[\"Price\"])>=0.45]\n",
        "top_corr_features\n",
        "plt.figure(figsize=(13,10))\n",
        "g = sns.heatmap(df[top_corr_features].corr(),annot=True,cmap=\"Blues\")\n",
        "\n"
      ],
      "execution_count": 9,
      "outputs": [
        {
          "output_type": "display_data",
          "data": {
            "image/png": "[encoded data removed]",
            "text/plain": [
              "<Figure size 936x720 with 2 Axes>"
            ]
          },
          "metadata": {
            "tags": [],
            "needs_background": "light"
          }
        }
      ]
    },
    {
      "cell_type": "code",
      "metadata": {
        "colab": {
          "base_uri": "https://localhost:8080/"
        },
        "id": "fFNIM2VfkA1u",
        "outputId": "e48ea49c-e304-4c36-9035-835942577c6e"
      },
      "source": [
        "list(df.columns)\n",
        "\n",
        "print(df.info())"
      ],
      "execution_count": null,
      "outputs": [
        {
          "output_type": "stream",
          "text": [
            "<class 'pandas.core.frame.DataFrame'>\n",
            "RangeIndex: 23547 entries, 0 to 23546\n",
            "Data columns (total 22 columns):\n",
            " #   Column         Non-Null Count  Dtype  \n",
            "---  ------         --------------  -----  \n",
            " 0   Suburb         23547 non-null  object \n",
            " 1   Address        23547 non-null  object \n",
            " 2   Rooms          23547 non-null  int64  \n",
            " 3   Type           23547 non-null  object \n",
            " 4   Price          18396 non-null  float64\n",
            " 5   Method         23547 non-null  object \n",
            " 6   SellerG        23547 non-null  object \n",
            " 7   Date           23547 non-null  object \n",
            " 8   Distance       23546 non-null  float64\n",
            " 9   Postcode       23546 non-null  float64\n",
            " 10  Bedroom2       19066 non-null  float64\n",
            " 11  Bathroom       19063 non-null  float64\n",
            " 12  Car            18921 non-null  float64\n",
            " 13  Landsize       17410 non-null  float64\n",
            " 14  BuildingArea   10018 non-null  float64\n",
            " 15  YearBuilt      11540 non-null  float64\n",
            " 16  CouncilArea    15656 non-null  object \n",
            " 17  Lattitude      19243 non-null  float64\n",
            " 18  Longtitude     19243 non-null  float64\n",
            " 19  Regionname     23546 non-null  object \n",
            " 20  Propertycount  23546 non-null  float64\n",
            " 21  Description    0 non-null      float64\n",
            "dtypes: float64(13), int64(1), object(8)\n",
            "memory usage: 4.0+ MB\n",
            "None\n"
          ],
          "name": "stdout"
        }
      ]
    },
    {
      "cell_type": "markdown",
      "metadata": {
        "id": "S0uwV6aRm2ZF"
      },
      "source": [
        "## Pair Plot"
      ]
    },
    {
      "cell_type": "code",
      "metadata": {
        "id": "VVP4RiIYmJ2z"
      },
      "source": [
        "df_l = df[df.columns.difference(['Description', 'Regionname', 'Longtitude', 'Lattitude', 'Date', 'Postcode', 'Address', 'Type', 'SellerG'])]"
      ],
      "execution_count": 10,
      "outputs": []
    },
    {
      "cell_type": "code",
      "metadata": {
        "colab": {
          "base_uri": "https://localhost:8080/",
          "height": 1000
        },
        "id": "FAfGu_36m3Sg",
        "outputId": "e0d19bcf-4464-4a08-a93e-59334561a46c"
      },
      "source": [
        "\n",
        "g = sns.pairplot(df_l, height=2)\n",
        "g.map_diag(sns.kdeplot, color=\".1\")\n",
        "g.map_offdiag(sns.scatterplot, hue=df[\"Price\"], s=5, linewidth=0)\n",
        "g.axes[1, -1].legend(loc=\"center left\", bbox_to_anchor=(.7, .5))\n",
        "\n",
        "plt.tight_layout()"
      ],
      "execution_count": 11,
      "outputs": [
        {
          "output_type": "display_data",
          "data": {
            "image/png": "[encoded data removed]",
            "text/plain": [
              "<Figure size 1440x1440 with 110 Axes>"
            ]
          },
          "metadata": {
            "tags": [],
            "needs_background": "light"
          }
        }
      ]
    },
    {
      "cell_type": "markdown",
      "metadata": {
        "id": "qjdjCLvjKp_3"
      },
      "source": [
        "# Missing Value\n",
        "## Finding total missing values (column-wise)"
      ]
    },
    {
      "cell_type": "code",
      "metadata": {
        "colab": {
          "base_uri": "https://localhost:8080/"
        },
        "id": "JKBDILFFKp_4",
        "outputId": "1ce00c87-5bd9-4578-d392-11f659d6fc70"
      },
      "source": [
        "df.isnull().sum().sort_values(ascending=False).head(10)"
      ],
      "execution_count": 14,
      "outputs": [
        {
          "output_type": "execute_result",
          "data": {
            "text/plain": [
              "Description     23547\n",
              "BuildingArea    13529\n",
              "YearBuilt       12007\n",
              "CouncilArea      7891\n",
              "Landsize         6137\n",
              "Price            5151\n",
              "Car              4626\n",
              "Bathroom         4484\n",
              "Bedroom2         4481\n",
              "Lattitude        4304\n",
              "dtype: int64"
            ]
          },
          "metadata": {
            "tags": []
          },
          "execution_count": 14
        }
      ]
    },
    {
      "cell_type": "markdown",
      "metadata": {
        "id": "Ov_U6P4gKp_5"
      },
      "source": [
        "## Finding Total Missing Values (Row-wise)"
      ]
    },
    {
      "cell_type": "code",
      "metadata": {
        "colab": {
          "base_uri": "https://localhost:8080/"
        },
        "id": "nleIetX0Kp_5",
        "outputId": "569ce2f8-619b-4fa6-d4d3-8dd739b37814"
      },
      "source": [
        "df.isnull().sum(axis=1).sort_values(ascending=False).head(10)"
      ],
      "execution_count": 15,
      "outputs": [
        {
          "output_type": "execute_result",
          "data": {
            "text/plain": [
              "18523    14\n",
              "17100    11\n",
              "16232    11\n",
              "20968    11\n",
              "6313     11\n",
              "6310     11\n",
              "6299     11\n",
              "6293     11\n",
              "16225    11\n",
              "6289     11\n",
              "dtype: int64"
            ]
          },
          "metadata": {
            "tags": []
          },
          "execution_count": 15
        }
      ]
    },
    {
      "cell_type": "markdown",
      "metadata": {
        "id": "DCYOu7YgKp_5"
      },
      "source": [
        "## Columns containing atleast one missing value "
      ]
    },
    {
      "cell_type": "code",
      "metadata": {
        "colab": {
          "base_uri": "https://localhost:8080/"
        },
        "id": "6lZyqoLSKp_7",
        "outputId": "e4b9cf80-6c67-41f6-ad0f-5c9bca7e0070"
      },
      "source": [
        "df.isnull().sum() > 0"
      ],
      "execution_count": 16,
      "outputs": [
        {
          "output_type": "execute_result",
          "data": {
            "text/plain": [
              "Suburb           False\n",
              "Address          False\n",
              "Rooms            False\n",
              "Type             False\n",
              "Price             True\n",
              "Method           False\n",
              "SellerG          False\n",
              "Date             False\n",
              "Distance          True\n",
              "Postcode          True\n",
              "Bedroom2          True\n",
              "Bathroom          True\n",
              "Car               True\n",
              "Landsize          True\n",
              "BuildingArea      True\n",
              "YearBuilt         True\n",
              "CouncilArea       True\n",
              "Lattitude         True\n",
              "Longtitude        True\n",
              "Regionname        True\n",
              "Propertycount     True\n",
              "Description       True\n",
              "dtype: bool"
            ]
          },
          "metadata": {
            "tags": []
          },
          "execution_count": 16
        }
      ]
    },
    {
      "cell_type": "code",
      "metadata": {
        "colab": {
          "base_uri": "https://localhost:8080/"
        },
        "id": "ROjNvgyKKp_7",
        "outputId": "aad83726-31a6-436d-a260-51d8817945f0"
      },
      "source": [
        "d = df.isnull().any()\n",
        "d"
      ],
      "execution_count": 17,
      "outputs": [
        {
          "output_type": "execute_result",
          "data": {
            "text/plain": [
              "Suburb           False\n",
              "Address          False\n",
              "Rooms            False\n",
              "Type             False\n",
              "Price             True\n",
              "Method           False\n",
              "SellerG          False\n",
              "Date             False\n",
              "Distance          True\n",
              "Postcode          True\n",
              "Bedroom2          True\n",
              "Bathroom          True\n",
              "Car               True\n",
              "Landsize          True\n",
              "BuildingArea      True\n",
              "YearBuilt         True\n",
              "CouncilArea       True\n",
              "Lattitude         True\n",
              "Longtitude        True\n",
              "Regionname        True\n",
              "Propertycount     True\n",
              "Description       True\n",
              "dtype: bool"
            ]
          },
          "metadata": {
            "tags": []
          },
          "execution_count": 17
        }
      ]
    },
    {
      "cell_type": "markdown",
      "metadata": {
        "id": "NiusxNLSKp_7"
      },
      "source": [
        "##### any() operates on columns by default"
      ]
    },
    {
      "cell_type": "code",
      "metadata": {
        "colab": {
          "base_uri": "https://localhost:8080/"
        },
        "id": "tFwkeAA4Kp_7",
        "outputId": "36ef2104-aaaa-4fc4-f237-773b18e37a70"
      },
      "source": [
        "d.index"
      ],
      "execution_count": 18,
      "outputs": [
        {
          "output_type": "execute_result",
          "data": {
            "text/plain": [
              "Index(['Suburb', 'Address', 'Rooms', 'Type', 'Price', 'Method', 'SellerG',\n",
              "       'Date', 'Distance', 'Postcode', 'Bedroom2', 'Bathroom', 'Car',\n",
              "       'Landsize', 'BuildingArea', 'YearBuilt', 'CouncilArea', 'Lattitude',\n",
              "       'Longtitude', 'Regionname', 'Propertycount', 'Description'],\n",
              "      dtype='object')"
            ]
          },
          "metadata": {
            "tags": []
          },
          "execution_count": 18
        }
      ]
    },
    {
      "cell_type": "code",
      "metadata": {
        "colab": {
          "base_uri": "https://localhost:8080/"
        },
        "id": "o1nQ86e4Kp_8",
        "outputId": "6c7e1238-1c38-420c-8eb1-baf4f37c767c"
      },
      "source": [
        "d.values"
      ],
      "execution_count": 19,
      "outputs": [
        {
          "output_type": "execute_result",
          "data": {
            "text/plain": [
              "array([False, False, False, False,  True, False, False, False,  True,\n",
              "        True,  True,  True,  True,  True,  True,  True,  True,  True,\n",
              "        True,  True,  True,  True])"
            ]
          },
          "metadata": {
            "tags": []
          },
          "execution_count": 19
        }
      ]
    },
    {
      "cell_type": "code",
      "metadata": {
        "colab": {
          "base_uri": "https://localhost:8080/"
        },
        "id": "I4HtQ30cKp_8",
        "outputId": "aeb92206-fef2-421d-ae52-969e32ae581d"
      },
      "source": [
        "d.index[d.values]"
      ],
      "execution_count": 20,
      "outputs": [
        {
          "output_type": "execute_result",
          "data": {
            "text/plain": [
              "Index(['Price', 'Distance', 'Postcode', 'Bedroom2', 'Bathroom', 'Car',\n",
              "       'Landsize', 'BuildingArea', 'YearBuilt', 'CouncilArea', 'Lattitude',\n",
              "       'Longtitude', 'Regionname', 'Propertycount', 'Description'],\n",
              "      dtype='object')"
            ]
          },
          "metadata": {
            "tags": []
          },
          "execution_count": 20
        }
      ]
    },
    {
      "cell_type": "markdown",
      "metadata": {
        "id": "pvZHXQPFKp_9"
      },
      "source": [
        "## Displaying rows that contain atleast one missing value"
      ]
    },
    {
      "cell_type": "code",
      "metadata": {
        "colab": {
          "base_uri": "https://localhost:8080/"
        },
        "id": "IgG_0zOdKp_9",
        "outputId": "8704e323-71c0-45c0-b628-9a9c72cbc3ca"
      },
      "source": [
        "df.isnull().any(axis=1)"
      ],
      "execution_count": 21,
      "outputs": [
        {
          "output_type": "execute_result",
          "data": {
            "text/plain": [
              "0        True\n",
              "1        True\n",
              "2        True\n",
              "3        True\n",
              "4        True\n",
              "         ... \n",
              "23542    True\n",
              "23543    True\n",
              "23544    True\n",
              "23545    True\n",
              "23546    True\n",
              "Length: 23547, dtype: bool"
            ]
          },
          "metadata": {
            "tags": []
          },
          "execution_count": 21
        }
      ]
    },
    {
      "cell_type": "code",
      "metadata": {
        "colab": {
          "base_uri": "https://localhost:8080/"
        },
        "id": "90suvVuGKp_9",
        "outputId": "bd7d881d-bbcd-4630-fafc-130b325c0dac"
      },
      "source": [
        "d = df.isnull().any(axis=1)\n",
        "d"
      ],
      "execution_count": 22,
      "outputs": [
        {
          "output_type": "execute_result",
          "data": {
            "text/plain": [
              "0        True\n",
              "1        True\n",
              "2        True\n",
              "3        True\n",
              "4        True\n",
              "         ... \n",
              "23542    True\n",
              "23543    True\n",
              "23544    True\n",
              "23545    True\n",
              "23546    True\n",
              "Length: 23547, dtype: bool"
            ]
          },
          "metadata": {
            "tags": []
          },
          "execution_count": 22
        }
      ]
    },
    {
      "cell_type": "code",
      "metadata": {
        "colab": {
          "base_uri": "https://localhost:8080/"
        },
        "id": "OyaTCeVjKp_-",
        "outputId": "8c707d0e-f752-41a8-ae0d-ebe8b2559673"
      },
      "source": [
        "d.index"
      ],
      "execution_count": 23,
      "outputs": [
        {
          "output_type": "execute_result",
          "data": {
            "text/plain": [
              "RangeIndex(start=0, stop=23547, step=1)"
            ]
          },
          "metadata": {
            "tags": []
          },
          "execution_count": 23
        }
      ]
    },
    {
      "cell_type": "code",
      "metadata": {
        "colab": {
          "base_uri": "https://localhost:8080/"
        },
        "id": "Wv31f9EXKp_-",
        "outputId": "ef55d6cb-e72d-4a44-864e-b8d69ae47d43"
      },
      "source": [
        "d.values\n",
        "len(d),len(df)"
      ],
      "execution_count": 24,
      "outputs": [
        {
          "output_type": "execute_result",
          "data": {
            "text/plain": [
              "(23547, 23547)"
            ]
          },
          "metadata": {
            "tags": []
          },
          "execution_count": 24
        }
      ]
    },
    {
      "cell_type": "code",
      "metadata": {
        "colab": {
          "base_uri": "https://localhost:8080/"
        },
        "id": "sJwlx1esKp_-",
        "outputId": "e520ee9a-2921-41bc-cd38-463ad3a9bddc"
      },
      "source": [
        "m = d.index[d.values]\n",
        "m"
      ],
      "execution_count": 25,
      "outputs": [
        {
          "output_type": "execute_result",
          "data": {
            "text/plain": [
              "Int64Index([    0,     1,     2,     3,     4,     5,     6,     7,     8,\n",
              "                9,\n",
              "            ...\n",
              "            23537, 23538, 23539, 23540, 23541, 23542, 23543, 23544, 23545,\n",
              "            23546],\n",
              "           dtype='int64', length=23547)"
            ]
          },
          "metadata": {
            "tags": []
          },
          "execution_count": 25
        }
      ]
    },
    {
      "cell_type": "code",
      "metadata": {
        "colab": {
          "base_uri": "https://localhost:8080/",
          "height": 767
        },
        "id": "1jVpRgTuKp__",
        "outputId": "e4ef8178-8f50-467b-e2a8-3432c6308ea9"
      },
      "source": [
        "df.iloc[m,:]"
      ],
      "execution_count": 26,
      "outputs": [
        {
          "output_type": "execute_result",
          "data": {
            "text/html": [
              "<div>\n",
              "<style scoped>\n",
              "    .dataframe tbody tr th:only-of-type {\n",
              "        vertical-align: middle;\n",
              "    }\n",
              "\n",
              "    .dataframe tbody tr th {\n",
              "        vertical-align: top;\n",
              "    }\n",
              "\n",
              "    .dataframe thead th {\n",
              "        text-align: right;\n",
              "    }\n",
              "</style>\n",
              "<table border=\"1\" class=\"dataframe\">\n",
              "  <thead>\n",
              "    <tr style=\"text-align: right;\">\n",
              "      <th></th>\n",
              "      <th>Suburb</th>\n",
              "      <th>Address</th>\n",
              "      <th>Rooms</th>\n",
              "      <th>Type</th>\n",
              "      <th>Price</th>\n",
              "      <th>Method</th>\n",
              "      <th>SellerG</th>\n",
              "      <th>Date</th>\n",
              "      <th>Distance</th>\n",
              "      <th>Postcode</th>\n",
              "      <th>Bedroom2</th>\n",
              "      <th>Bathroom</th>\n",
              "      <th>Car</th>\n",
              "      <th>Landsize</th>\n",
              "      <th>BuildingArea</th>\n",
              "      <th>YearBuilt</th>\n",
              "      <th>CouncilArea</th>\n",
              "      <th>Lattitude</th>\n",
              "      <th>Longtitude</th>\n",
              "      <th>Regionname</th>\n",
              "      <th>Propertycount</th>\n",
              "      <th>Description</th>\n",
              "    </tr>\n",
              "  </thead>\n",
              "  <tbody>\n",
              "    <tr>\n",
              "      <th>0</th>\n",
              "      <td>Abbotsford</td>\n",
              "      <td>68 Studley St</td>\n",
              "      <td>2</td>\n",
              "      <td>h</td>\n",
              "      <td>NaN</td>\n",
              "      <td>SS</td>\n",
              "      <td>Jellis</td>\n",
              "      <td>03-09-2016</td>\n",
              "      <td>2.5</td>\n",
              "      <td>3067.0</td>\n",
              "      <td>2.0</td>\n",
              "      <td>1.0</td>\n",
              "      <td>1.0</td>\n",
              "      <td>126.0</td>\n",
              "      <td>NaN</td>\n",
              "      <td>NaN</td>\n",
              "      <td>Yarra</td>\n",
              "      <td>-37.80140</td>\n",
              "      <td>144.99580</td>\n",
              "      <td>Northern Metropolitan</td>\n",
              "      <td>4019.0</td>\n",
              "      <td>NaN</td>\n",
              "    </tr>\n",
              "    <tr>\n",
              "      <th>1</th>\n",
              "      <td>Abbotsford</td>\n",
              "      <td>85 Turner St</td>\n",
              "      <td>2</td>\n",
              "      <td>h</td>\n",
              "      <td>1480000.0</td>\n",
              "      <td>S</td>\n",
              "      <td>Biggin</td>\n",
              "      <td>03-12-2016</td>\n",
              "      <td>2.5</td>\n",
              "      <td>3067.0</td>\n",
              "      <td>2.0</td>\n",
              "      <td>1.0</td>\n",
              "      <td>1.0</td>\n",
              "      <td>202.0</td>\n",
              "      <td>NaN</td>\n",
              "      <td>NaN</td>\n",
              "      <td>Yarra</td>\n",
              "      <td>-37.79960</td>\n",
              "      <td>144.99840</td>\n",
              "      <td>Northern Metropolitan</td>\n",
              "      <td>4019.0</td>\n",
              "      <td>NaN</td>\n",
              "    </tr>\n",
              "    <tr>\n",
              "      <th>2</th>\n",
              "      <td>Abbotsford</td>\n",
              "      <td>25 Bloomburg St</td>\n",
              "      <td>2</td>\n",
              "      <td>h</td>\n",
              "      <td>1035000.0</td>\n",
              "      <td>S</td>\n",
              "      <td>Biggin</td>\n",
              "      <td>04-02-2016</td>\n",
              "      <td>2.5</td>\n",
              "      <td>3067.0</td>\n",
              "      <td>2.0</td>\n",
              "      <td>1.0</td>\n",
              "      <td>0.0</td>\n",
              "      <td>156.0</td>\n",
              "      <td>79.0</td>\n",
              "      <td>1900.0</td>\n",
              "      <td>Yarra</td>\n",
              "      <td>-37.80790</td>\n",
              "      <td>144.99340</td>\n",
              "      <td>Northern Metropolitan</td>\n",
              "      <td>4019.0</td>\n",
              "      <td>NaN</td>\n",
              "    </tr>\n",
              "    <tr>\n",
              "      <th>3</th>\n",
              "      <td>Abbotsford</td>\n",
              "      <td>18/659 Victoria St</td>\n",
              "      <td>3</td>\n",
              "      <td>u</td>\n",
              "      <td>NaN</td>\n",
              "      <td>VB</td>\n",
              "      <td>Rounds</td>\n",
              "      <td>04-02-2016</td>\n",
              "      <td>2.5</td>\n",
              "      <td>3067.0</td>\n",
              "      <td>3.0</td>\n",
              "      <td>2.0</td>\n",
              "      <td>1.0</td>\n",
              "      <td>0.0</td>\n",
              "      <td>NaN</td>\n",
              "      <td>NaN</td>\n",
              "      <td>Yarra</td>\n",
              "      <td>-37.81140</td>\n",
              "      <td>145.01160</td>\n",
              "      <td>Northern Metropolitan</td>\n",
              "      <td>4019.0</td>\n",
              "      <td>NaN</td>\n",
              "    </tr>\n",
              "    <tr>\n",
              "      <th>4</th>\n",
              "      <td>Abbotsford</td>\n",
              "      <td>5 Charles St</td>\n",
              "      <td>3</td>\n",
              "      <td>h</td>\n",
              "      <td>1465000.0</td>\n",
              "      <td>SP</td>\n",
              "      <td>Biggin</td>\n",
              "      <td>04-03-2017</td>\n",
              "      <td>2.5</td>\n",
              "      <td>3067.0</td>\n",
              "      <td>3.0</td>\n",
              "      <td>2.0</td>\n",
              "      <td>0.0</td>\n",
              "      <td>134.0</td>\n",
              "      <td>150.0</td>\n",
              "      <td>1900.0</td>\n",
              "      <td>Yarra</td>\n",
              "      <td>-37.80930</td>\n",
              "      <td>144.99440</td>\n",
              "      <td>Northern Metropolitan</td>\n",
              "      <td>4019.0</td>\n",
              "      <td>NaN</td>\n",
              "    </tr>\n",
              "    <tr>\n",
              "      <th>...</th>\n",
              "      <td>...</td>\n",
              "      <td>...</td>\n",
              "      <td>...</td>\n",
              "      <td>...</td>\n",
              "      <td>...</td>\n",
              "      <td>...</td>\n",
              "      <td>...</td>\n",
              "      <td>...</td>\n",
              "      <td>...</td>\n",
              "      <td>...</td>\n",
              "      <td>...</td>\n",
              "      <td>...</td>\n",
              "      <td>...</td>\n",
              "      <td>...</td>\n",
              "      <td>...</td>\n",
              "      <td>...</td>\n",
              "      <td>...</td>\n",
              "      <td>...</td>\n",
              "      <td>...</td>\n",
              "      <td>...</td>\n",
              "      <td>...</td>\n",
              "      <td>...</td>\n",
              "    </tr>\n",
              "    <tr>\n",
              "      <th>23542</th>\n",
              "      <td>Wyndham Vale</td>\n",
              "      <td>25 Clitheroe Dr</td>\n",
              "      <td>3</td>\n",
              "      <td>u</td>\n",
              "      <td>NaN</td>\n",
              "      <td>PN</td>\n",
              "      <td>Harcourts</td>\n",
              "      <td>26-08-2017</td>\n",
              "      <td>27.2</td>\n",
              "      <td>3024.0</td>\n",
              "      <td>3.0</td>\n",
              "      <td>1.0</td>\n",
              "      <td>0.0</td>\n",
              "      <td>552.0</td>\n",
              "      <td>119.0</td>\n",
              "      <td>1990.0</td>\n",
              "      <td>NaN</td>\n",
              "      <td>-37.90032</td>\n",
              "      <td>144.61839</td>\n",
              "      <td>Western Metropolitan</td>\n",
              "      <td>5262.0</td>\n",
              "      <td>NaN</td>\n",
              "    </tr>\n",
              "    <tr>\n",
              "      <th>23543</th>\n",
              "      <td>Wyndham Vale</td>\n",
              "      <td>19 Dalrymple Bvd</td>\n",
              "      <td>4</td>\n",
              "      <td>h</td>\n",
              "      <td>NaN</td>\n",
              "      <td>S</td>\n",
              "      <td>hockingstuart</td>\n",
              "      <td>26-08-2017</td>\n",
              "      <td>27.2</td>\n",
              "      <td>3024.0</td>\n",
              "      <td>NaN</td>\n",
              "      <td>NaN</td>\n",
              "      <td>NaN</td>\n",
              "      <td>NaN</td>\n",
              "      <td>NaN</td>\n",
              "      <td>NaN</td>\n",
              "      <td>NaN</td>\n",
              "      <td>-37.87882</td>\n",
              "      <td>144.60184</td>\n",
              "      <td>Western Metropolitan</td>\n",
              "      <td>5262.0</td>\n",
              "      <td>NaN</td>\n",
              "    </tr>\n",
              "    <tr>\n",
              "      <th>23544</th>\n",
              "      <td>Yallambie</td>\n",
              "      <td>17 Amaroo Wy</td>\n",
              "      <td>4</td>\n",
              "      <td>h</td>\n",
              "      <td>1100000.0</td>\n",
              "      <td>S</td>\n",
              "      <td>Buckingham</td>\n",
              "      <td>26-08-2017</td>\n",
              "      <td>12.7</td>\n",
              "      <td>3085.0</td>\n",
              "      <td>4.0</td>\n",
              "      <td>3.0</td>\n",
              "      <td>2.0</td>\n",
              "      <td>NaN</td>\n",
              "      <td>NaN</td>\n",
              "      <td>NaN</td>\n",
              "      <td>NaN</td>\n",
              "      <td>-37.72006</td>\n",
              "      <td>145.10547</td>\n",
              "      <td>Northern Metropolitan</td>\n",
              "      <td>1369.0</td>\n",
              "      <td>NaN</td>\n",
              "    </tr>\n",
              "    <tr>\n",
              "      <th>23545</th>\n",
              "      <td>Yarraville</td>\n",
              "      <td>6 Agnes St</td>\n",
              "      <td>4</td>\n",
              "      <td>h</td>\n",
              "      <td>1285000.0</td>\n",
              "      <td>SP</td>\n",
              "      <td>Village</td>\n",
              "      <td>26-08-2017</td>\n",
              "      <td>6.3</td>\n",
              "      <td>3013.0</td>\n",
              "      <td>4.0</td>\n",
              "      <td>1.0</td>\n",
              "      <td>1.0</td>\n",
              "      <td>362.0</td>\n",
              "      <td>112.0</td>\n",
              "      <td>1920.0</td>\n",
              "      <td>NaN</td>\n",
              "      <td>-37.81188</td>\n",
              "      <td>144.88449</td>\n",
              "      <td>Western Metropolitan</td>\n",
              "      <td>6543.0</td>\n",
              "      <td>NaN</td>\n",
              "    </tr>\n",
              "    <tr>\n",
              "      <th>23546</th>\n",
              "      <td>Yarraville</td>\n",
              "      <td>33 Freeman St</td>\n",
              "      <td>4</td>\n",
              "      <td>h</td>\n",
              "      <td>1050000.0</td>\n",
              "      <td>VB</td>\n",
              "      <td>Village</td>\n",
              "      <td>26-08-2017</td>\n",
              "      <td>6.3</td>\n",
              "      <td>3013.0</td>\n",
              "      <td>4.0</td>\n",
              "      <td>2.0</td>\n",
              "      <td>2.0</td>\n",
              "      <td>NaN</td>\n",
              "      <td>139.0</td>\n",
              "      <td>1950.0</td>\n",
              "      <td>NaN</td>\n",
              "      <td>-37.81829</td>\n",
              "      <td>144.87404</td>\n",
              "      <td>Western Metropolitan</td>\n",
              "      <td>6543.0</td>\n",
              "      <td>NaN</td>\n",
              "    </tr>\n",
              "  </tbody>\n",
              "</table>\n",
              "<p>23547 rows × 22 columns</p>\n",
              "</div>"
            ],
            "text/plain": [
              "             Suburb             Address  ...  Propertycount Description\n",
              "0        Abbotsford       68 Studley St  ...         4019.0         NaN\n",
              "1        Abbotsford        85 Turner St  ...         4019.0         NaN\n",
              "2        Abbotsford     25 Bloomburg St  ...         4019.0         NaN\n",
              "3        Abbotsford  18/659 Victoria St  ...         4019.0         NaN\n",
              "4        Abbotsford        5 Charles St  ...         4019.0         NaN\n",
              "...             ...                 ...  ...            ...         ...\n",
              "23542  Wyndham Vale     25 Clitheroe Dr  ...         5262.0         NaN\n",
              "23543  Wyndham Vale    19 Dalrymple Bvd  ...         5262.0         NaN\n",
              "23544     Yallambie        17 Amaroo Wy  ...         1369.0         NaN\n",
              "23545    Yarraville          6 Agnes St  ...         6543.0         NaN\n",
              "23546    Yarraville       33 Freeman St  ...         6543.0         NaN\n",
              "\n",
              "[23547 rows x 22 columns]"
            ]
          },
          "metadata": {
            "tags": []
          },
          "execution_count": 26
        }
      ]
    },
    {
      "cell_type": "markdown",
      "metadata": {
        "id": "N6gTj4eiKp__"
      },
      "source": [
        "### Columns having all missing values"
      ]
    },
    {
      "cell_type": "code",
      "metadata": {
        "colab": {
          "base_uri": "https://localhost:8080/"
        },
        "id": "5KiOanAzKp__",
        "outputId": "1e2943b6-8474-4a45-9e4a-6b4804e7e76d"
      },
      "source": [
        "df.isnull().all(axis=0)"
      ],
      "execution_count": 28,
      "outputs": [
        {
          "output_type": "execute_result",
          "data": {
            "text/plain": [
              "Suburb           False\n",
              "Address          False\n",
              "Rooms            False\n",
              "Type             False\n",
              "Price            False\n",
              "Method           False\n",
              "SellerG          False\n",
              "Date             False\n",
              "Distance         False\n",
              "Postcode         False\n",
              "Bedroom2         False\n",
              "Bathroom         False\n",
              "Car              False\n",
              "Landsize         False\n",
              "BuildingArea     False\n",
              "YearBuilt        False\n",
              "CouncilArea      False\n",
              "Lattitude        False\n",
              "Longtitude       False\n",
              "Regionname       False\n",
              "Propertycount    False\n",
              "Description       True\n",
              "dtype: bool"
            ]
          },
          "metadata": {
            "tags": []
          },
          "execution_count": 28
        }
      ]
    },
    {
      "cell_type": "markdown",
      "metadata": {
        "id": "0UtYbu76Kp__"
      },
      "source": [
        "### Rows having all missing values"
      ]
    },
    {
      "cell_type": "code",
      "metadata": {
        "scrolled": true,
        "colab": {
          "base_uri": "https://localhost:8080/"
        },
        "id": "KdYoKWiGKqAA",
        "outputId": "9e6058b8-18ab-4b09-c26e-6b4681885e48"
      },
      "source": [
        "df.isnull().all(axis=1).sum()"
      ],
      "execution_count": 29,
      "outputs": [
        {
          "output_type": "execute_result",
          "data": {
            "text/plain": [
              "0"
            ]
          },
          "metadata": {
            "tags": []
          },
          "execution_count": 29
        }
      ]
    },
    {
      "cell_type": "code",
      "metadata": {
        "colab": {
          "base_uri": "https://localhost:8080/"
        },
        "id": "tJAsDr_sKqAB",
        "outputId": "e37a40df-b616-4d83-d23b-062a80f06fe5"
      },
      "source": [
        "df.isnull().sum(axis=1)==15"
      ],
      "execution_count": 30,
      "outputs": [
        {
          "output_type": "execute_result",
          "data": {
            "text/plain": [
              "0        False\n",
              "1        False\n",
              "2        False\n",
              "3        False\n",
              "4        False\n",
              "         ...  \n",
              "23542    False\n",
              "23543    False\n",
              "23544    False\n",
              "23545    False\n",
              "23546    False\n",
              "Length: 23547, dtype: bool"
            ]
          },
          "metadata": {
            "tags": []
          },
          "execution_count": 30
        }
      ]
    },
    {
      "cell_type": "markdown",
      "metadata": {
        "id": "bTL0slkdyD6I"
      },
      "source": [
        "### drop column "
      ]
    },
    {
      "cell_type": "code",
      "metadata": {
        "colab": {
          "base_uri": "https://localhost:8080/",
          "height": 388
        },
        "id": "FLHmQAAXx8Wd",
        "outputId": "020f0b87-9c46-4017-bcef-da2897c1b51e"
      },
      "source": [
        "### drop column \n",
        "\n",
        "d_columns = ['Description', 'Postcode', 'Address', 'SellerG']\n",
        "df_d = df[df.columns.difference(d_columns)]\n",
        "\n",
        "df_d.head()"
      ],
      "execution_count": 65,
      "outputs": [
        {
          "output_type": "execute_result",
          "data": {
            "text/html": [
              "<div>\n",
              "<style scoped>\n",
              "    .dataframe tbody tr th:only-of-type {\n",
              "        vertical-align: middle;\n",
              "    }\n",
              "\n",
              "    .dataframe tbody tr th {\n",
              "        vertical-align: top;\n",
              "    }\n",
              "\n",
              "    .dataframe thead th {\n",
              "        text-align: right;\n",
              "    }\n",
              "</style>\n",
              "<table border=\"1\" class=\"dataframe\">\n",
              "  <thead>\n",
              "    <tr style=\"text-align: right;\">\n",
              "      <th></th>\n",
              "      <th>Bathroom</th>\n",
              "      <th>Bedroom2</th>\n",
              "      <th>BuildingArea</th>\n",
              "      <th>Car</th>\n",
              "      <th>CouncilArea</th>\n",
              "      <th>Date</th>\n",
              "      <th>Distance</th>\n",
              "      <th>Landsize</th>\n",
              "      <th>Lattitude</th>\n",
              "      <th>Longtitude</th>\n",
              "      <th>Method</th>\n",
              "      <th>Price</th>\n",
              "      <th>Propertycount</th>\n",
              "      <th>Regionname</th>\n",
              "      <th>Rooms</th>\n",
              "      <th>Suburb</th>\n",
              "      <th>Type</th>\n",
              "      <th>YearBuilt</th>\n",
              "    </tr>\n",
              "  </thead>\n",
              "  <tbody>\n",
              "    <tr>\n",
              "      <th>0</th>\n",
              "      <td>1.0</td>\n",
              "      <td>2.0</td>\n",
              "      <td>NaN</td>\n",
              "      <td>1.0</td>\n",
              "      <td>Yarra</td>\n",
              "      <td>03-09-2016</td>\n",
              "      <td>2.5</td>\n",
              "      <td>126.0</td>\n",
              "      <td>-37.8014</td>\n",
              "      <td>144.9958</td>\n",
              "      <td>SS</td>\n",
              "      <td>NaN</td>\n",
              "      <td>4019.0</td>\n",
              "      <td>Northern Metropolitan</td>\n",
              "      <td>2</td>\n",
              "      <td>Abbotsford</td>\n",
              "      <td>h</td>\n",
              "      <td>NaN</td>\n",
              "    </tr>\n",
              "    <tr>\n",
              "      <th>1</th>\n",
              "      <td>1.0</td>\n",
              "      <td>2.0</td>\n",
              "      <td>NaN</td>\n",
              "      <td>1.0</td>\n",
              "      <td>Yarra</td>\n",
              "      <td>03-12-2016</td>\n",
              "      <td>2.5</td>\n",
              "      <td>202.0</td>\n",
              "      <td>-37.7996</td>\n",
              "      <td>144.9984</td>\n",
              "      <td>S</td>\n",
              "      <td>1480000.0</td>\n",
              "      <td>4019.0</td>\n",
              "      <td>Northern Metropolitan</td>\n",
              "      <td>2</td>\n",
              "      <td>Abbotsford</td>\n",
              "      <td>h</td>\n",
              "      <td>NaN</td>\n",
              "    </tr>\n",
              "    <tr>\n",
              "      <th>2</th>\n",
              "      <td>1.0</td>\n",
              "      <td>2.0</td>\n",
              "      <td>79.0</td>\n",
              "      <td>0.0</td>\n",
              "      <td>Yarra</td>\n",
              "      <td>04-02-2016</td>\n",
              "      <td>2.5</td>\n",
              "      <td>156.0</td>\n",
              "      <td>-37.8079</td>\n",
              "      <td>144.9934</td>\n",
              "      <td>S</td>\n",
              "      <td>1035000.0</td>\n",
              "      <td>4019.0</td>\n",
              "      <td>Northern Metropolitan</td>\n",
              "      <td>2</td>\n",
              "      <td>Abbotsford</td>\n",
              "      <td>h</td>\n",
              "      <td>1900.0</td>\n",
              "    </tr>\n",
              "    <tr>\n",
              "      <th>3</th>\n",
              "      <td>2.0</td>\n",
              "      <td>3.0</td>\n",
              "      <td>NaN</td>\n",
              "      <td>1.0</td>\n",
              "      <td>Yarra</td>\n",
              "      <td>04-02-2016</td>\n",
              "      <td>2.5</td>\n",
              "      <td>0.0</td>\n",
              "      <td>-37.8114</td>\n",
              "      <td>145.0116</td>\n",
              "      <td>VB</td>\n",
              "      <td>NaN</td>\n",
              "      <td>4019.0</td>\n",
              "      <td>Northern Metropolitan</td>\n",
              "      <td>3</td>\n",
              "      <td>Abbotsford</td>\n",
              "      <td>u</td>\n",
              "      <td>NaN</td>\n",
              "    </tr>\n",
              "    <tr>\n",
              "      <th>4</th>\n",
              "      <td>2.0</td>\n",
              "      <td>3.0</td>\n",
              "      <td>150.0</td>\n",
              "      <td>0.0</td>\n",
              "      <td>Yarra</td>\n",
              "      <td>04-03-2017</td>\n",
              "      <td>2.5</td>\n",
              "      <td>134.0</td>\n",
              "      <td>-37.8093</td>\n",
              "      <td>144.9944</td>\n",
              "      <td>SP</td>\n",
              "      <td>1465000.0</td>\n",
              "      <td>4019.0</td>\n",
              "      <td>Northern Metropolitan</td>\n",
              "      <td>3</td>\n",
              "      <td>Abbotsford</td>\n",
              "      <td>h</td>\n",
              "      <td>1900.0</td>\n",
              "    </tr>\n",
              "  </tbody>\n",
              "</table>\n",
              "</div>"
            ],
            "text/plain": [
              "   Bathroom  Bedroom2  BuildingArea  Car  ... Rooms      Suburb  Type  YearBuilt\n",
              "0       1.0       2.0           NaN  1.0  ...     2  Abbotsford     h        NaN\n",
              "1       1.0       2.0           NaN  1.0  ...     2  Abbotsford     h        NaN\n",
              "2       1.0       2.0          79.0  0.0  ...     2  Abbotsford     h     1900.0\n",
              "3       2.0       3.0           NaN  1.0  ...     3  Abbotsford     u        NaN\n",
              "4       2.0       3.0         150.0  0.0  ...     3  Abbotsford     h     1900.0\n",
              "\n",
              "[5 rows x 18 columns]"
            ]
          },
          "metadata": {
            "tags": []
          },
          "execution_count": 65
        }
      ]
    },
    {
      "cell_type": "code",
      "metadata": {
        "colab": {
          "base_uri": "https://localhost:8080/"
        },
        "id": "Qdg_JvdryzCg",
        "outputId": "df77744c-e7f1-4bbf-859d-7b00299e4505"
      },
      "source": [
        "df_d.Suburb.value_counts()  # 336개? ...\n",
        "df_d.Type.value_counts()  # 3개\n",
        "df_d.CouncilArea.value_counts()"
      ],
      "execution_count": 66,
      "outputs": [
        {
          "output_type": "execute_result",
          "data": {
            "text/plain": [
              "Boroondara           1677\n",
              "Moreland             1421\n",
              "Stonnington          1141\n",
              "Moonee Valley        1141\n",
              "Darebin              1113\n",
              "Glen Eira            1019\n",
              "Port Phillip          849\n",
              "Maribyrnong           836\n",
              "Yarra                 836\n",
              "Banyule               763\n",
              "Bayside               677\n",
              "Melbourne             582\n",
              "Hobsons Bay           505\n",
              "Brimbank              490\n",
              "Monash                458\n",
              "Whitehorse            432\n",
              "Manningham            379\n",
              "Kingston              235\n",
              "Hume                  200\n",
              "Whittlesea            196\n",
              "Wyndham               128\n",
              "Maroondah             114\n",
              "Knox                  100\n",
              "Melton                 78\n",
              "Greater Dandenong      78\n",
              "Frankston              67\n",
              "Casey                  49\n",
              "Nillumbik              41\n",
              "Yarra Ranges           27\n",
              "Cardinia               10\n",
              "Macedon Ranges          9\n",
              "Moorabool               2\n",
              "Mitchell                2\n",
              "Unavailable             1\n",
              "Name: CouncilArea, dtype: int64"
            ]
          },
          "metadata": {
            "tags": []
          },
          "execution_count": 66
        }
      ]
    },
    {
      "cell_type": "markdown",
      "metadata": {
        "id": "5CdnKjmFKqAB"
      },
      "source": [
        "### Percentage of missing values (Column-wise)"
      ]
    },
    {
      "cell_type": "code",
      "metadata": {
        "colab": {
          "base_uri": "https://localhost:8080/"
        },
        "id": "xcAIV0lsKqAB",
        "outputId": "979a8cf6-b0ae-4fea-cc0e-8b09f5c42529"
      },
      "source": [
        "df_d.isnull().sum(axis=0).sort_values(ascending=False)/len(df) * 100"
      ],
      "execution_count": 67,
      "outputs": [
        {
          "output_type": "execute_result",
          "data": {
            "text/plain": [
              "BuildingArea     57.455302\n",
              "YearBuilt        50.991634\n",
              "CouncilArea      33.511700\n",
              "Landsize         26.062768\n",
              "Price            21.875398\n",
              "Car              19.645815\n",
              "Bathroom         19.042766\n",
              "Bedroom2         19.030025\n",
              "Longtitude       18.278337\n",
              "Lattitude        18.278337\n",
              "Propertycount     0.004247\n",
              "Distance          0.004247\n",
              "Regionname        0.004247\n",
              "Method            0.000000\n",
              "Type              0.000000\n",
              "Date              0.000000\n",
              "Rooms             0.000000\n",
              "Suburb            0.000000\n",
              "dtype: float64"
            ]
          },
          "metadata": {
            "tags": []
          },
          "execution_count": 67
        }
      ]
    },
    {
      "cell_type": "code",
      "metadata": {
        "colab": {
          "base_uri": "https://localhost:8080/"
        },
        "id": "4DBiaw-dKqAB",
        "outputId": "ff5922f1-4c1a-4737-989d-6b10f2eab71c"
      },
      "source": [
        "round(df_d.isnull().sum(axis=0).sort_values(ascending=False)/len(df) * 100, 2)"
      ],
      "execution_count": 68,
      "outputs": [
        {
          "output_type": "execute_result",
          "data": {
            "text/plain": [
              "BuildingArea     57.46\n",
              "YearBuilt        50.99\n",
              "CouncilArea      33.51\n",
              "Landsize         26.06\n",
              "Price            21.88\n",
              "Car              19.65\n",
              "Bathroom         19.04\n",
              "Bedroom2         19.03\n",
              "Longtitude       18.28\n",
              "Lattitude        18.28\n",
              "Propertycount     0.00\n",
              "Distance          0.00\n",
              "Regionname        0.00\n",
              "Method            0.00\n",
              "Type              0.00\n",
              "Date              0.00\n",
              "Rooms             0.00\n",
              "Suburb            0.00\n",
              "dtype: float64"
            ]
          },
          "metadata": {
            "tags": []
          },
          "execution_count": 68
        }
      ]
    },
    {
      "cell_type": "markdown",
      "metadata": {
        "id": "MK2YuzSNKqAC"
      },
      "source": [
        "## Removing three columns with the highest missing values"
      ]
    },
    {
      "cell_type": "code",
      "metadata": {
        "colab": {
          "base_uri": "https://localhost:8080/"
        },
        "id": "UjsUZ6y7KqAC",
        "outputId": "3d339688-be54-4dc0-d1e3-f22127cdb1a9"
      },
      "source": [
        "col = df_d.isnull().sum().sort_values(ascending=False).head(3).index.values\n",
        "col"
      ],
      "execution_count": 70,
      "outputs": [
        {
          "output_type": "execute_result",
          "data": {
            "text/plain": [
              "array(['BuildingArea', 'YearBuilt', 'CouncilArea'], dtype=object)"
            ]
          },
          "metadata": {
            "tags": []
          },
          "execution_count": 70
        }
      ]
    },
    {
      "cell_type": "code",
      "metadata": {
        "colab": {
          "base_uri": "https://localhost:8080/",
          "height": 767
        },
        "id": "Jrp4AweSKqAC",
        "outputId": "37b607ae-4fef-4427-809e-fd152081eae9"
      },
      "source": [
        "df_d2 = df_d.drop(col,axis=1)\n",
        "df_d2"
      ],
      "execution_count": 71,
      "outputs": [
        {
          "output_type": "execute_result",
          "data": {
            "text/html": [
              "<div>\n",
              "<style scoped>\n",
              "    .dataframe tbody tr th:only-of-type {\n",
              "        vertical-align: middle;\n",
              "    }\n",
              "\n",
              "    .dataframe tbody tr th {\n",
              "        vertical-align: top;\n",
              "    }\n",
              "\n",
              "    .dataframe thead th {\n",
              "        text-align: right;\n",
              "    }\n",
              "</style>\n",
              "<table border=\"1\" class=\"dataframe\">\n",
              "  <thead>\n",
              "    <tr style=\"text-align: right;\">\n",
              "      <th></th>\n",
              "      <th>Bathroom</th>\n",
              "      <th>Bedroom2</th>\n",
              "      <th>Car</th>\n",
              "      <th>Date</th>\n",
              "      <th>Distance</th>\n",
              "      <th>Landsize</th>\n",
              "      <th>Lattitude</th>\n",
              "      <th>Longtitude</th>\n",
              "      <th>Method</th>\n",
              "      <th>Price</th>\n",
              "      <th>Propertycount</th>\n",
              "      <th>Regionname</th>\n",
              "      <th>Rooms</th>\n",
              "      <th>Suburb</th>\n",
              "      <th>Type</th>\n",
              "    </tr>\n",
              "  </thead>\n",
              "  <tbody>\n",
              "    <tr>\n",
              "      <th>0</th>\n",
              "      <td>1.0</td>\n",
              "      <td>2.0</td>\n",
              "      <td>1.0</td>\n",
              "      <td>03-09-2016</td>\n",
              "      <td>2.5</td>\n",
              "      <td>126.0</td>\n",
              "      <td>-37.80140</td>\n",
              "      <td>144.99580</td>\n",
              "      <td>SS</td>\n",
              "      <td>NaN</td>\n",
              "      <td>4019.0</td>\n",
              "      <td>Northern Metropolitan</td>\n",
              "      <td>2</td>\n",
              "      <td>Abbotsford</td>\n",
              "      <td>h</td>\n",
              "    </tr>\n",
              "    <tr>\n",
              "      <th>1</th>\n",
              "      <td>1.0</td>\n",
              "      <td>2.0</td>\n",
              "      <td>1.0</td>\n",
              "      <td>03-12-2016</td>\n",
              "      <td>2.5</td>\n",
              "      <td>202.0</td>\n",
              "      <td>-37.79960</td>\n",
              "      <td>144.99840</td>\n",
              "      <td>S</td>\n",
              "      <td>1480000.0</td>\n",
              "      <td>4019.0</td>\n",
              "      <td>Northern Metropolitan</td>\n",
              "      <td>2</td>\n",
              "      <td>Abbotsford</td>\n",
              "      <td>h</td>\n",
              "    </tr>\n",
              "    <tr>\n",
              "      <th>2</th>\n",
              "      <td>1.0</td>\n",
              "      <td>2.0</td>\n",
              "      <td>0.0</td>\n",
              "      <td>04-02-2016</td>\n",
              "      <td>2.5</td>\n",
              "      <td>156.0</td>\n",
              "      <td>-37.80790</td>\n",
              "      <td>144.99340</td>\n",
              "      <td>S</td>\n",
              "      <td>1035000.0</td>\n",
              "      <td>4019.0</td>\n",
              "      <td>Northern Metropolitan</td>\n",
              "      <td>2</td>\n",
              "      <td>Abbotsford</td>\n",
              "      <td>h</td>\n",
              "    </tr>\n",
              "    <tr>\n",
              "      <th>3</th>\n",
              "      <td>2.0</td>\n",
              "      <td>3.0</td>\n",
              "      <td>1.0</td>\n",
              "      <td>04-02-2016</td>\n",
              "      <td>2.5</td>\n",
              "      <td>0.0</td>\n",
              "      <td>-37.81140</td>\n",
              "      <td>145.01160</td>\n",
              "      <td>VB</td>\n",
              "      <td>NaN</td>\n",
              "      <td>4019.0</td>\n",
              "      <td>Northern Metropolitan</td>\n",
              "      <td>3</td>\n",
              "      <td>Abbotsford</td>\n",
              "      <td>u</td>\n",
              "    </tr>\n",
              "    <tr>\n",
              "      <th>4</th>\n",
              "      <td>2.0</td>\n",
              "      <td>3.0</td>\n",
              "      <td>0.0</td>\n",
              "      <td>04-03-2017</td>\n",
              "      <td>2.5</td>\n",
              "      <td>134.0</td>\n",
              "      <td>-37.80930</td>\n",
              "      <td>144.99440</td>\n",
              "      <td>SP</td>\n",
              "      <td>1465000.0</td>\n",
              "      <td>4019.0</td>\n",
              "      <td>Northern Metropolitan</td>\n",
              "      <td>3</td>\n",
              "      <td>Abbotsford</td>\n",
              "      <td>h</td>\n",
              "    </tr>\n",
              "    <tr>\n",
              "      <th>...</th>\n",
              "      <td>...</td>\n",
              "      <td>...</td>\n",
              "      <td>...</td>\n",
              "      <td>...</td>\n",
              "      <td>...</td>\n",
              "      <td>...</td>\n",
              "      <td>...</td>\n",
              "      <td>...</td>\n",
              "      <td>...</td>\n",
              "      <td>...</td>\n",
              "      <td>...</td>\n",
              "      <td>...</td>\n",
              "      <td>...</td>\n",
              "      <td>...</td>\n",
              "      <td>...</td>\n",
              "    </tr>\n",
              "    <tr>\n",
              "      <th>23542</th>\n",
              "      <td>1.0</td>\n",
              "      <td>3.0</td>\n",
              "      <td>0.0</td>\n",
              "      <td>26-08-2017</td>\n",
              "      <td>27.2</td>\n",
              "      <td>552.0</td>\n",
              "      <td>-37.90032</td>\n",
              "      <td>144.61839</td>\n",
              "      <td>PN</td>\n",
              "      <td>NaN</td>\n",
              "      <td>5262.0</td>\n",
              "      <td>Western Metropolitan</td>\n",
              "      <td>3</td>\n",
              "      <td>Wyndham Vale</td>\n",
              "      <td>u</td>\n",
              "    </tr>\n",
              "    <tr>\n",
              "      <th>23543</th>\n",
              "      <td>NaN</td>\n",
              "      <td>NaN</td>\n",
              "      <td>NaN</td>\n",
              "      <td>26-08-2017</td>\n",
              "      <td>27.2</td>\n",
              "      <td>NaN</td>\n",
              "      <td>-37.87882</td>\n",
              "      <td>144.60184</td>\n",
              "      <td>S</td>\n",
              "      <td>NaN</td>\n",
              "      <td>5262.0</td>\n",
              "      <td>Western Metropolitan</td>\n",
              "      <td>4</td>\n",
              "      <td>Wyndham Vale</td>\n",
              "      <td>h</td>\n",
              "    </tr>\n",
              "    <tr>\n",
              "      <th>23544</th>\n",
              "      <td>3.0</td>\n",
              "      <td>4.0</td>\n",
              "      <td>2.0</td>\n",
              "      <td>26-08-2017</td>\n",
              "      <td>12.7</td>\n",
              "      <td>NaN</td>\n",
              "      <td>-37.72006</td>\n",
              "      <td>145.10547</td>\n",
              "      <td>S</td>\n",
              "      <td>1100000.0</td>\n",
              "      <td>1369.0</td>\n",
              "      <td>Northern Metropolitan</td>\n",
              "      <td>4</td>\n",
              "      <td>Yallambie</td>\n",
              "      <td>h</td>\n",
              "    </tr>\n",
              "    <tr>\n",
              "      <th>23545</th>\n",
              "      <td>1.0</td>\n",
              "      <td>4.0</td>\n",
              "      <td>1.0</td>\n",
              "      <td>26-08-2017</td>\n",
              "      <td>6.3</td>\n",
              "      <td>362.0</td>\n",
              "      <td>-37.81188</td>\n",
              "      <td>144.88449</td>\n",
              "      <td>SP</td>\n",
              "      <td>1285000.0</td>\n",
              "      <td>6543.0</td>\n",
              "      <td>Western Metropolitan</td>\n",
              "      <td>4</td>\n",
              "      <td>Yarraville</td>\n",
              "      <td>h</td>\n",
              "    </tr>\n",
              "    <tr>\n",
              "      <th>23546</th>\n",
              "      <td>2.0</td>\n",
              "      <td>4.0</td>\n",
              "      <td>2.0</td>\n",
              "      <td>26-08-2017</td>\n",
              "      <td>6.3</td>\n",
              "      <td>NaN</td>\n",
              "      <td>-37.81829</td>\n",
              "      <td>144.87404</td>\n",
              "      <td>VB</td>\n",
              "      <td>1050000.0</td>\n",
              "      <td>6543.0</td>\n",
              "      <td>Western Metropolitan</td>\n",
              "      <td>4</td>\n",
              "      <td>Yarraville</td>\n",
              "      <td>h</td>\n",
              "    </tr>\n",
              "  </tbody>\n",
              "</table>\n",
              "<p>23547 rows × 15 columns</p>\n",
              "</div>"
            ],
            "text/plain": [
              "       Bathroom  Bedroom2  Car  ... Rooms        Suburb  Type\n",
              "0           1.0       2.0  1.0  ...     2    Abbotsford     h\n",
              "1           1.0       2.0  1.0  ...     2    Abbotsford     h\n",
              "2           1.0       2.0  0.0  ...     2    Abbotsford     h\n",
              "3           2.0       3.0  1.0  ...     3    Abbotsford     u\n",
              "4           2.0       3.0  0.0  ...     3    Abbotsford     h\n",
              "...         ...       ...  ...  ...   ...           ...   ...\n",
              "23542       1.0       3.0  0.0  ...     3  Wyndham Vale     u\n",
              "23543       NaN       NaN  NaN  ...     4  Wyndham Vale     h\n",
              "23544       3.0       4.0  2.0  ...     4     Yallambie     h\n",
              "23545       1.0       4.0  1.0  ...     4    Yarraville     h\n",
              "23546       2.0       4.0  2.0  ...     4    Yarraville     h\n",
              "\n",
              "[23547 rows x 15 columns]"
            ]
          },
          "metadata": {
            "tags": []
          },
          "execution_count": 71
        }
      ]
    },
    {
      "cell_type": "code",
      "metadata": {
        "colab": {
          "base_uri": "https://localhost:8080/"
        },
        "id": "bDF3hiXEKqAC",
        "outputId": "cd662cef-bedd-4bce-8077-f53eb43fcda5"
      },
      "source": [
        "round(df_d2.isnull().sum(axis=0).sort_values(ascending=False)/len(df) * 100, 2)"
      ],
      "execution_count": 72,
      "outputs": [
        {
          "output_type": "execute_result",
          "data": {
            "text/plain": [
              "Landsize         26.06\n",
              "Price            21.88\n",
              "Car              19.65\n",
              "Bathroom         19.04\n",
              "Bedroom2         19.03\n",
              "Longtitude       18.28\n",
              "Lattitude        18.28\n",
              "Regionname        0.00\n",
              "Propertycount     0.00\n",
              "Distance          0.00\n",
              "Type              0.00\n",
              "Suburb            0.00\n",
              "Rooms             0.00\n",
              "Method            0.00\n",
              "Date              0.00\n",
              "dtype: float64"
            ]
          },
          "metadata": {
            "tags": []
          },
          "execution_count": 72
        }
      ]
    },
    {
      "cell_type": "markdown",
      "metadata": {
        "id": "GREsOdLiKqAD"
      },
      "source": [
        "### Rows with more than 5 missing values"
      ]
    },
    {
      "cell_type": "code",
      "metadata": {
        "colab": {
          "base_uri": "https://localhost:8080/",
          "height": 767
        },
        "id": "LgKwduzXKqAD",
        "outputId": "36677027-6134-4e46-c990-8b03cfd8f92e"
      },
      "source": [
        "df_d2[df_d2.isnull().sum(axis=1)>5]"
      ],
      "execution_count": 73,
      "outputs": [
        {
          "output_type": "execute_result",
          "data": {
            "text/html": [
              "<div>\n",
              "<style scoped>\n",
              "    .dataframe tbody tr th:only-of-type {\n",
              "        vertical-align: middle;\n",
              "    }\n",
              "\n",
              "    .dataframe tbody tr th {\n",
              "        vertical-align: top;\n",
              "    }\n",
              "\n",
              "    .dataframe thead th {\n",
              "        text-align: right;\n",
              "    }\n",
              "</style>\n",
              "<table border=\"1\" class=\"dataframe\">\n",
              "  <thead>\n",
              "    <tr style=\"text-align: right;\">\n",
              "      <th></th>\n",
              "      <th>Bathroom</th>\n",
              "      <th>Bedroom2</th>\n",
              "      <th>Car</th>\n",
              "      <th>Date</th>\n",
              "      <th>Distance</th>\n",
              "      <th>Landsize</th>\n",
              "      <th>Lattitude</th>\n",
              "      <th>Longtitude</th>\n",
              "      <th>Method</th>\n",
              "      <th>Price</th>\n",
              "      <th>Propertycount</th>\n",
              "      <th>Regionname</th>\n",
              "      <th>Rooms</th>\n",
              "      <th>Suburb</th>\n",
              "      <th>Type</th>\n",
              "    </tr>\n",
              "  </thead>\n",
              "  <tbody>\n",
              "    <tr>\n",
              "      <th>15</th>\n",
              "      <td>NaN</td>\n",
              "      <td>NaN</td>\n",
              "      <td>NaN</td>\n",
              "      <td>08-10-2016</td>\n",
              "      <td>2.5</td>\n",
              "      <td>NaN</td>\n",
              "      <td>NaN</td>\n",
              "      <td>NaN</td>\n",
              "      <td>S</td>\n",
              "      <td>1000000.0</td>\n",
              "      <td>4019.0</td>\n",
              "      <td>Northern Metropolitan</td>\n",
              "      <td>3</td>\n",
              "      <td>Abbotsford</td>\n",
              "      <td>h</td>\n",
              "    </tr>\n",
              "    <tr>\n",
              "      <th>16</th>\n",
              "      <td>NaN</td>\n",
              "      <td>NaN</td>\n",
              "      <td>NaN</td>\n",
              "      <td>08-10-2016</td>\n",
              "      <td>2.5</td>\n",
              "      <td>NaN</td>\n",
              "      <td>NaN</td>\n",
              "      <td>NaN</td>\n",
              "      <td>S</td>\n",
              "      <td>745000.0</td>\n",
              "      <td>4019.0</td>\n",
              "      <td>Northern Metropolitan</td>\n",
              "      <td>2</td>\n",
              "      <td>Abbotsford</td>\n",
              "      <td>t</td>\n",
              "    </tr>\n",
              "    <tr>\n",
              "      <th>19</th>\n",
              "      <td>NaN</td>\n",
              "      <td>NaN</td>\n",
              "      <td>NaN</td>\n",
              "      <td>08-10-2016</td>\n",
              "      <td>2.5</td>\n",
              "      <td>NaN</td>\n",
              "      <td>NaN</td>\n",
              "      <td>NaN</td>\n",
              "      <td>S</td>\n",
              "      <td>542000.0</td>\n",
              "      <td>4019.0</td>\n",
              "      <td>Northern Metropolitan</td>\n",
              "      <td>2</td>\n",
              "      <td>Abbotsford</td>\n",
              "      <td>u</td>\n",
              "    </tr>\n",
              "    <tr>\n",
              "      <th>21</th>\n",
              "      <td>NaN</td>\n",
              "      <td>NaN</td>\n",
              "      <td>NaN</td>\n",
              "      <td>10-12-2016</td>\n",
              "      <td>2.5</td>\n",
              "      <td>NaN</td>\n",
              "      <td>NaN</td>\n",
              "      <td>NaN</td>\n",
              "      <td>SP</td>\n",
              "      <td>760000.0</td>\n",
              "      <td>4019.0</td>\n",
              "      <td>Northern Metropolitan</td>\n",
              "      <td>2</td>\n",
              "      <td>Abbotsford</td>\n",
              "      <td>u</td>\n",
              "    </tr>\n",
              "    <tr>\n",
              "      <th>22</th>\n",
              "      <td>NaN</td>\n",
              "      <td>NaN</td>\n",
              "      <td>NaN</td>\n",
              "      <td>10-12-2016</td>\n",
              "      <td>2.5</td>\n",
              "      <td>NaN</td>\n",
              "      <td>NaN</td>\n",
              "      <td>NaN</td>\n",
              "      <td>SP</td>\n",
              "      <td>481000.0</td>\n",
              "      <td>4019.0</td>\n",
              "      <td>Northern Metropolitan</td>\n",
              "      <td>1</td>\n",
              "      <td>Abbotsford</td>\n",
              "      <td>u</td>\n",
              "    </tr>\n",
              "    <tr>\n",
              "      <th>...</th>\n",
              "      <td>...</td>\n",
              "      <td>...</td>\n",
              "      <td>...</td>\n",
              "      <td>...</td>\n",
              "      <td>...</td>\n",
              "      <td>...</td>\n",
              "      <td>...</td>\n",
              "      <td>...</td>\n",
              "      <td>...</td>\n",
              "      <td>...</td>\n",
              "      <td>...</td>\n",
              "      <td>...</td>\n",
              "      <td>...</td>\n",
              "      <td>...</td>\n",
              "      <td>...</td>\n",
              "    </tr>\n",
              "    <tr>\n",
              "      <th>23495</th>\n",
              "      <td>NaN</td>\n",
              "      <td>NaN</td>\n",
              "      <td>NaN</td>\n",
              "      <td>26-08-2017</td>\n",
              "      <td>12.4</td>\n",
              "      <td>NaN</td>\n",
              "      <td>NaN</td>\n",
              "      <td>NaN</td>\n",
              "      <td>PI</td>\n",
              "      <td>550000.0</td>\n",
              "      <td>5420.0</td>\n",
              "      <td>Eastern Metropolitan</td>\n",
              "      <td>2</td>\n",
              "      <td>Templestowe Lower</td>\n",
              "      <td>u</td>\n",
              "    </tr>\n",
              "    <tr>\n",
              "      <th>23499</th>\n",
              "      <td>NaN</td>\n",
              "      <td>NaN</td>\n",
              "      <td>NaN</td>\n",
              "      <td>26-08-2017</td>\n",
              "      <td>7.0</td>\n",
              "      <td>NaN</td>\n",
              "      <td>NaN</td>\n",
              "      <td>NaN</td>\n",
              "      <td>PI</td>\n",
              "      <td>770000.0</td>\n",
              "      <td>8870.0</td>\n",
              "      <td>Northern Metropolitan</td>\n",
              "      <td>2</td>\n",
              "      <td>Thornbury</td>\n",
              "      <td>t</td>\n",
              "    </tr>\n",
              "    <tr>\n",
              "      <th>23502</th>\n",
              "      <td>NaN</td>\n",
              "      <td>NaN</td>\n",
              "      <td>NaN</td>\n",
              "      <td>26-08-2017</td>\n",
              "      <td>7.0</td>\n",
              "      <td>NaN</td>\n",
              "      <td>NaN</td>\n",
              "      <td>NaN</td>\n",
              "      <td>S</td>\n",
              "      <td>858000.0</td>\n",
              "      <td>8870.0</td>\n",
              "      <td>Northern Metropolitan</td>\n",
              "      <td>2</td>\n",
              "      <td>Thornbury</td>\n",
              "      <td>t</td>\n",
              "    </tr>\n",
              "    <tr>\n",
              "      <th>23508</th>\n",
              "      <td>NaN</td>\n",
              "      <td>NaN</td>\n",
              "      <td>NaN</td>\n",
              "      <td>26-08-2017</td>\n",
              "      <td>4.1</td>\n",
              "      <td>NaN</td>\n",
              "      <td>NaN</td>\n",
              "      <td>NaN</td>\n",
              "      <td>VB</td>\n",
              "      <td>720000.0</td>\n",
              "      <td>7217.0</td>\n",
              "      <td>Southern Metropolitan</td>\n",
              "      <td>2</td>\n",
              "      <td>Toorak</td>\n",
              "      <td>u</td>\n",
              "    </tr>\n",
              "    <tr>\n",
              "      <th>23531</th>\n",
              "      <td>NaN</td>\n",
              "      <td>NaN</td>\n",
              "      <td>NaN</td>\n",
              "      <td>26-08-2017</td>\n",
              "      <td>14.7</td>\n",
              "      <td>NaN</td>\n",
              "      <td>NaN</td>\n",
              "      <td>NaN</td>\n",
              "      <td>PI</td>\n",
              "      <td>540000.0</td>\n",
              "      <td>16166.0</td>\n",
              "      <td>Western Metropolitan</td>\n",
              "      <td>4</td>\n",
              "      <td>Werribee</td>\n",
              "      <td>h</td>\n",
              "    </tr>\n",
              "  </tbody>\n",
              "</table>\n",
              "<p>4278 rows × 15 columns</p>\n",
              "</div>"
            ],
            "text/plain": [
              "       Bathroom  Bedroom2  Car  ... Rooms             Suburb  Type\n",
              "15          NaN       NaN  NaN  ...     3         Abbotsford     h\n",
              "16          NaN       NaN  NaN  ...     2         Abbotsford     t\n",
              "19          NaN       NaN  NaN  ...     2         Abbotsford     u\n",
              "21          NaN       NaN  NaN  ...     2         Abbotsford     u\n",
              "22          NaN       NaN  NaN  ...     1         Abbotsford     u\n",
              "...         ...       ...  ...  ...   ...                ...   ...\n",
              "23495       NaN       NaN  NaN  ...     2  Templestowe Lower     u\n",
              "23499       NaN       NaN  NaN  ...     2          Thornbury     t\n",
              "23502       NaN       NaN  NaN  ...     2          Thornbury     t\n",
              "23508       NaN       NaN  NaN  ...     2             Toorak     u\n",
              "23531       NaN       NaN  NaN  ...     4           Werribee     h\n",
              "\n",
              "[4278 rows x 15 columns]"
            ]
          },
          "metadata": {
            "tags": []
          },
          "execution_count": 73
        }
      ]
    },
    {
      "cell_type": "code",
      "metadata": {
        "colab": {
          "base_uri": "https://localhost:8080/"
        },
        "id": "Quvh_koXKqAD",
        "outputId": "1db05387-cd86-4703-fc8a-366b0b7c56a8"
      },
      "source": [
        "len(df_d2[df_d2.isnull().sum(axis=1)>5])/len(df_d2) * 100"
      ],
      "execution_count": 74,
      "outputs": [
        {
          "output_type": "execute_result",
          "data": {
            "text/plain": [
              "18.16791948018856"
            ]
          },
          "metadata": {
            "tags": []
          },
          "execution_count": 74
        }
      ]
    },
    {
      "cell_type": "code",
      "metadata": {
        "colab": {
          "base_uri": "https://localhost:8080/"
        },
        "id": "QJ2C1WzpKqAD",
        "outputId": "7960c1a4-93b0-40d8-ad3d-79d507175412"
      },
      "source": [
        "round(len(df_d2[df_d2.isnull().sum(axis=1)>5])/len(df_d2) * 100,2)"
      ],
      "execution_count": 75,
      "outputs": [
        {
          "output_type": "execute_result",
          "data": {
            "text/plain": [
              "18.17"
            ]
          },
          "metadata": {
            "tags": []
          },
          "execution_count": 75
        }
      ]
    },
    {
      "cell_type": "markdown",
      "metadata": {
        "id": "NeUHorwEKqAE"
      },
      "source": [
        "### Retaining rows with <=5 NAN values"
      ]
    },
    {
      "cell_type": "code",
      "metadata": {
        "id": "uwNOmBpTKqAE"
      },
      "source": [
        "df_d3 = df_d2[df_d2.isnull().sum(axis=1)<=5]"
      ],
      "execution_count": 76,
      "outputs": []
    },
    {
      "cell_type": "code",
      "metadata": {
        "colab": {
          "base_uri": "https://localhost:8080/"
        },
        "id": "noCmKpOAKqAE",
        "outputId": "ee011e8d-d758-4122-8c63-766ef113b33c"
      },
      "source": [
        "df_d3\n",
        "\n",
        "print(df_d2.shape)  # 23547\n",
        "print(df_d3.shape)  # 19269\n",
        "print(round(len(df_d3)/len(df_d2) * 100 ,2))  #  81.83 % remain"
      ],
      "execution_count": 77,
      "outputs": [
        {
          "output_type": "stream",
          "text": [
            "(23547, 15)\n",
            "(19269, 15)\n",
            "81.83\n"
          ],
          "name": "stdout"
        }
      ]
    },
    {
      "cell_type": "code",
      "metadata": {
        "colab": {
          "base_uri": "https://localhost:8080/"
        },
        "id": "uDSzaSzyKqAE",
        "outputId": "02ee5757-703d-41f0-e2e2-c29818e272bb"
      },
      "source": [
        "round(df_d3.isnull().sum(axis=0).sort_values(ascending=False)/len(df_d3) * 100, 2)"
      ],
      "execution_count": 78,
      "outputs": [
        {
          "output_type": "execute_result",
          "data": {
            "text/plain": [
              "Price            21.71\n",
              "Landsize          9.65\n",
              "Car               1.81\n",
              "Bathroom          1.07\n",
              "Bedroom2          1.05\n",
              "Longtitude        0.13\n",
              "Lattitude         0.13\n",
              "Type              0.00\n",
              "Suburb            0.00\n",
              "Rooms             0.00\n",
              "Regionname        0.00\n",
              "Propertycount     0.00\n",
              "Method            0.00\n",
              "Distance          0.00\n",
              "Date              0.00\n",
              "dtype: float64"
            ]
          },
          "metadata": {
            "tags": []
          },
          "execution_count": 78
        }
      ]
    },
    {
      "cell_type": "markdown",
      "metadata": {
        "id": "-FoBbtvXKqAF"
      },
      "source": [
        "### Removing the rows where Price is missing  #### df_d4"
      ]
    },
    {
      "cell_type": "code",
      "metadata": {
        "id": "kT8sOHO3KqAF"
      },
      "source": [
        "df_d4 = df_d3[df_d3['Price'].notnull()]"
      ],
      "execution_count": 79,
      "outputs": []
    },
    {
      "cell_type": "code",
      "metadata": {
        "colab": {
          "base_uri": "https://localhost:8080/",
          "height": 388
        },
        "id": "8ctuR0EoKqAG",
        "outputId": "b9430ad3-bec0-48b6-92b8-76cee640d20f"
      },
      "source": [
        "df_d4.head()"
      ],
      "execution_count": 80,
      "outputs": [
        {
          "output_type": "execute_result",
          "data": {
            "text/html": [
              "<div>\n",
              "<style scoped>\n",
              "    .dataframe tbody tr th:only-of-type {\n",
              "        vertical-align: middle;\n",
              "    }\n",
              "\n",
              "    .dataframe tbody tr th {\n",
              "        vertical-align: top;\n",
              "    }\n",
              "\n",
              "    .dataframe thead th {\n",
              "        text-align: right;\n",
              "    }\n",
              "</style>\n",
              "<table border=\"1\" class=\"dataframe\">\n",
              "  <thead>\n",
              "    <tr style=\"text-align: right;\">\n",
              "      <th></th>\n",
              "      <th>Bathroom</th>\n",
              "      <th>Bedroom2</th>\n",
              "      <th>Car</th>\n",
              "      <th>Date</th>\n",
              "      <th>Distance</th>\n",
              "      <th>Landsize</th>\n",
              "      <th>Lattitude</th>\n",
              "      <th>Longtitude</th>\n",
              "      <th>Method</th>\n",
              "      <th>Price</th>\n",
              "      <th>Propertycount</th>\n",
              "      <th>Regionname</th>\n",
              "      <th>Rooms</th>\n",
              "      <th>Suburb</th>\n",
              "      <th>Type</th>\n",
              "    </tr>\n",
              "  </thead>\n",
              "  <tbody>\n",
              "    <tr>\n",
              "      <th>1</th>\n",
              "      <td>1.0</td>\n",
              "      <td>2.0</td>\n",
              "      <td>1.0</td>\n",
              "      <td>03-12-2016</td>\n",
              "      <td>2.5</td>\n",
              "      <td>202.0</td>\n",
              "      <td>-37.7996</td>\n",
              "      <td>144.9984</td>\n",
              "      <td>S</td>\n",
              "      <td>1480000.0</td>\n",
              "      <td>4019.0</td>\n",
              "      <td>Northern Metropolitan</td>\n",
              "      <td>2</td>\n",
              "      <td>Abbotsford</td>\n",
              "      <td>h</td>\n",
              "    </tr>\n",
              "    <tr>\n",
              "      <th>2</th>\n",
              "      <td>1.0</td>\n",
              "      <td>2.0</td>\n",
              "      <td>0.0</td>\n",
              "      <td>04-02-2016</td>\n",
              "      <td>2.5</td>\n",
              "      <td>156.0</td>\n",
              "      <td>-37.8079</td>\n",
              "      <td>144.9934</td>\n",
              "      <td>S</td>\n",
              "      <td>1035000.0</td>\n",
              "      <td>4019.0</td>\n",
              "      <td>Northern Metropolitan</td>\n",
              "      <td>2</td>\n",
              "      <td>Abbotsford</td>\n",
              "      <td>h</td>\n",
              "    </tr>\n",
              "    <tr>\n",
              "      <th>4</th>\n",
              "      <td>2.0</td>\n",
              "      <td>3.0</td>\n",
              "      <td>0.0</td>\n",
              "      <td>04-03-2017</td>\n",
              "      <td>2.5</td>\n",
              "      <td>134.0</td>\n",
              "      <td>-37.8093</td>\n",
              "      <td>144.9944</td>\n",
              "      <td>SP</td>\n",
              "      <td>1465000.0</td>\n",
              "      <td>4019.0</td>\n",
              "      <td>Northern Metropolitan</td>\n",
              "      <td>3</td>\n",
              "      <td>Abbotsford</td>\n",
              "      <td>h</td>\n",
              "    </tr>\n",
              "    <tr>\n",
              "      <th>5</th>\n",
              "      <td>2.0</td>\n",
              "      <td>3.0</td>\n",
              "      <td>1.0</td>\n",
              "      <td>04-03-2017</td>\n",
              "      <td>2.5</td>\n",
              "      <td>94.0</td>\n",
              "      <td>-37.7969</td>\n",
              "      <td>144.9969</td>\n",
              "      <td>PI</td>\n",
              "      <td>850000.0</td>\n",
              "      <td>4019.0</td>\n",
              "      <td>Northern Metropolitan</td>\n",
              "      <td>3</td>\n",
              "      <td>Abbotsford</td>\n",
              "      <td>h</td>\n",
              "    </tr>\n",
              "    <tr>\n",
              "      <th>6</th>\n",
              "      <td>1.0</td>\n",
              "      <td>3.0</td>\n",
              "      <td>2.0</td>\n",
              "      <td>04-06-2016</td>\n",
              "      <td>2.5</td>\n",
              "      <td>120.0</td>\n",
              "      <td>-37.8072</td>\n",
              "      <td>144.9941</td>\n",
              "      <td>VB</td>\n",
              "      <td>1600000.0</td>\n",
              "      <td>4019.0</td>\n",
              "      <td>Northern Metropolitan</td>\n",
              "      <td>4</td>\n",
              "      <td>Abbotsford</td>\n",
              "      <td>h</td>\n",
              "    </tr>\n",
              "  </tbody>\n",
              "</table>\n",
              "</div>"
            ],
            "text/plain": [
              "   Bathroom  Bedroom2  Car  ... Rooms      Suburb  Type\n",
              "1       1.0       2.0  1.0  ...     2  Abbotsford     h\n",
              "2       1.0       2.0  0.0  ...     2  Abbotsford     h\n",
              "4       2.0       3.0  0.0  ...     3  Abbotsford     h\n",
              "5       2.0       3.0  1.0  ...     3  Abbotsford     h\n",
              "6       1.0       3.0  2.0  ...     4  Abbotsford     h\n",
              "\n",
              "[5 rows x 15 columns]"
            ]
          },
          "metadata": {
            "tags": []
          },
          "execution_count": 80
        }
      ]
    },
    {
      "cell_type": "code",
      "metadata": {
        "colab": {
          "base_uri": "https://localhost:8080/"
        },
        "id": "apOWllGVKqAG",
        "outputId": "db569a13-a21d-48f5-9019-731b468a0120"
      },
      "source": [
        "round(df_d4.isnull().sum(axis=0).sort_values(ascending=False)/len(df_d4) * 100, 2)"
      ],
      "execution_count": 81,
      "outputs": [
        {
          "output_type": "execute_result",
          "data": {
            "text/plain": [
              "Landsize         9.83\n",
              "Car              1.76\n",
              "Bathroom         1.07\n",
              "Bedroom2         1.05\n",
              "Longtitude       0.15\n",
              "Lattitude        0.15\n",
              "Type             0.00\n",
              "Suburb           0.00\n",
              "Rooms            0.00\n",
              "Regionname       0.00\n",
              "Propertycount    0.00\n",
              "Price            0.00\n",
              "Method           0.00\n",
              "Distance         0.00\n",
              "Date             0.00\n",
              "dtype: float64"
            ]
          },
          "metadata": {
            "tags": []
          },
          "execution_count": 81
        }
      ]
    },
    {
      "cell_type": "code",
      "metadata": {
        "colab": {
          "base_uri": "https://localhost:8080/"
        },
        "id": "-vFJUpKeKqAG",
        "outputId": "730ecf16-507d-41ff-9d37-7b8e36a3656f"
      },
      "source": [
        "round(df_d4.isnull().sum(axis=0).sort_values(ascending=False)/len(df_d4) * 100, 2)"
      ],
      "execution_count": 82,
      "outputs": [
        {
          "output_type": "execute_result",
          "data": {
            "text/plain": [
              "Landsize         9.83\n",
              "Car              1.76\n",
              "Bathroom         1.07\n",
              "Bedroom2         1.05\n",
              "Longtitude       0.15\n",
              "Lattitude        0.15\n",
              "Type             0.00\n",
              "Suburb           0.00\n",
              "Rooms            0.00\n",
              "Regionname       0.00\n",
              "Propertycount    0.00\n",
              "Price            0.00\n",
              "Method           0.00\n",
              "Distance         0.00\n",
              "Date             0.00\n",
              "dtype: float64"
            ]
          },
          "metadata": {
            "tags": []
          },
          "execution_count": 82
        }
      ]
    },
    {
      "cell_type": "code",
      "metadata": {
        "colab": {
          "base_uri": "https://localhost:8080/"
        },
        "id": "h0DguGf6KqAJ",
        "outputId": "a2eea13a-9366-4cbd-d129-3ac82e078354"
      },
      "source": [
        "round(df_d4.isnull().sum(axis=0).sort_values(ascending=False)/len(df_d4) * 100, 2)"
      ],
      "execution_count": 83,
      "outputs": [
        {
          "output_type": "execute_result",
          "data": {
            "text/plain": [
              "Landsize         9.83\n",
              "Car              1.76\n",
              "Bathroom         1.07\n",
              "Bedroom2         1.05\n",
              "Longtitude       0.15\n",
              "Lattitude        0.15\n",
              "Type             0.00\n",
              "Suburb           0.00\n",
              "Rooms            0.00\n",
              "Regionname       0.00\n",
              "Propertycount    0.00\n",
              "Price            0.00\n",
              "Method           0.00\n",
              "Distance         0.00\n",
              "Date             0.00\n",
              "dtype: float64"
            ]
          },
          "metadata": {
            "tags": []
          },
          "execution_count": 83
        }
      ]
    },
    {
      "cell_type": "markdown",
      "metadata": {
        "id": "CO1zwNyCKqAJ"
      },
      "source": [
        "## Treating the remaining missing values i.e. RM and INDUS column"
      ]
    },
    {
      "cell_type": "code",
      "metadata": {
        "id": "ddjiXUfhKqAJ"
      },
      "source": [
        "# df_d4.loc[:,['BuildingArea','YearBuilt']].describe()"
      ],
      "execution_count": null,
      "outputs": []
    },
    {
      "cell_type": "code",
      "metadata": {
        "colab": {
          "base_uri": "https://localhost:8080/"
        },
        "id": "tsQ3w-HQKqAJ",
        "outputId": "f57f217e-465e-4b24-9e6c-b1004fa353e4"
      },
      "source": [
        "# df_d4.groupby('BuildingArea').Landsize.count().sort_values(ascending = False)"
      ],
      "execution_count": null,
      "outputs": [
        {
          "output_type": "execute_result",
          "data": {
            "text/plain": [
              "BuildingArea\n",
              "120.0    114\n",
              "110.0     89\n",
              "100.0     88\n",
              "130.0     84\n",
              "115.0     77\n",
              "        ... \n",
              "638.0      0\n",
              "857.0      0\n",
              "859.0      0\n",
              "999.0      0\n",
              "23.0       0\n",
              "Name: Landsize, Length: 613, dtype: int64"
            ]
          },
          "metadata": {
            "tags": []
          },
          "execution_count": 83
        }
      ]
    },
    {
      "cell_type": "code",
      "metadata": {
        "id": "Bvcto5H6KqAK"
      },
      "source": [
        "# df_d4.loc[:,'BuildingArea'].fillna(2, inplace=True)"
      ],
      "execution_count": null,
      "outputs": []
    },
    {
      "cell_type": "code",
      "metadata": {
        "colab": {
          "base_uri": "https://localhost:8080/"
        },
        "id": "9pSD0kgYKqAK",
        "outputId": "e7dbece6-9b40-4e20-dba8-e282849ee538"
      },
      "source": [
        "round(df_d4.isnull().sum(axis=0).sort_values(ascending=False)/len(df_d3) * 100, 2)"
      ],
      "execution_count": 84,
      "outputs": [
        {
          "output_type": "execute_result",
          "data": {
            "text/plain": [
              "Landsize         7.70\n",
              "Car              1.38\n",
              "Bathroom         0.84\n",
              "Bedroom2         0.83\n",
              "Longtitude       0.11\n",
              "Lattitude        0.11\n",
              "Type             0.00\n",
              "Suburb           0.00\n",
              "Rooms            0.00\n",
              "Regionname       0.00\n",
              "Propertycount    0.00\n",
              "Price            0.00\n",
              "Method           0.00\n",
              "Distance         0.00\n",
              "Date             0.00\n",
              "dtype: float64"
            ]
          },
          "metadata": {
            "tags": []
          },
          "execution_count": 84
        }
      ]
    },
    {
      "cell_type": "code",
      "metadata": {
        "colab": {
          "base_uri": "https://localhost:8080/"
        },
        "id": "UW8Pd0rPKqAK",
        "outputId": "99d2ef9f-d516-4696-8e5f-33436cd9d4af"
      },
      "source": [
        "df_d4.groupby('Landsize').Price.count().sort_values(ascending=False)"
      ],
      "execution_count": 87,
      "outputs": [
        {
          "output_type": "execute_result",
          "data": {
            "text/plain": [
              "Landsize\n",
              "0.0         1942\n",
              "650.0        103\n",
              "697.0         71\n",
              "700.0         48\n",
              "585.0         47\n",
              "            ... \n",
              "1465.0         1\n",
              "76000.0        1\n",
              "1459.0         1\n",
              "1458.0         1\n",
              "433014.0       1\n",
              "Name: Price, Length: 1449, dtype: int64"
            ]
          },
          "metadata": {
            "tags": []
          },
          "execution_count": 87
        }
      ]
    },
    {
      "cell_type": "code",
      "metadata": {
        "id": "tenx9GnC3DwG"
      },
      "source": [
        "def Landsize_impute(data):\n",
        "  data1 = data.copy()\n",
        "  # data1['Landsize_null'] = data1['Landsize'].apply(lambda x : 1 if pd.isnull(x) else 0)\n",
        "  data2 = data1.groupby('Price')['Landsize']\n",
        "  data1['Landsize'] = data2.transform(lambda x : x.fillna(x.mean()))\n",
        "\n",
        "  return data1\n",
        "\n",
        "df_d5 = Landsize_impute(df_d4)"
      ],
      "execution_count": 98,
      "outputs": []
    },
    {
      "cell_type": "code",
      "metadata": {
        "id": "U0s39ZJB5M5p"
      },
      "source": [
        ""
      ],
      "execution_count": null,
      "outputs": []
    },
    {
      "cell_type": "code",
      "metadata": {
        "id": "CsDM6vHUKqAK"
      },
      "source": [
        "# df.loc[:,'RM`'].fillna(1, inplace=True)"
      ],
      "execution_count": null,
      "outputs": []
    },
    {
      "cell_type": "code",
      "metadata": {
        "colab": {
          "base_uri": "https://localhost:8080/"
        },
        "id": "gJY4MCvQKqAL",
        "outputId": "377839a7-e8d8-43ea-faf9-26a2593c4d12"
      },
      "source": [
        "round(df_d5.isnull().sum(axis=0).sort_values(ascending=False)/len(df_d5) * 100, 2)"
      ],
      "execution_count": 99,
      "outputs": [
        {
          "output_type": "execute_result",
          "data": {
            "text/plain": [
              "Car              1.76\n",
              "Bathroom         1.07\n",
              "Bedroom2         1.05\n",
              "Landsize         0.64\n",
              "Longtitude       0.15\n",
              "Lattitude        0.15\n",
              "Type             0.00\n",
              "Suburb           0.00\n",
              "Rooms            0.00\n",
              "Regionname       0.00\n",
              "Propertycount    0.00\n",
              "Price            0.00\n",
              "Method           0.00\n",
              "Distance         0.00\n",
              "Date             0.00\n",
              "dtype: float64"
            ]
          },
          "metadata": {
            "tags": []
          },
          "execution_count": 99
        }
      ]
    },
    {
      "cell_type": "markdown",
      "metadata": {
        "id": "BkeBE0K1a-Ve"
      },
      "source": [
        "# Impute NaN of numeric data to ‘mean’\n"
      ]
    },
    {
      "cell_type": "code",
      "metadata": {
        "colab": {
          "base_uri": "https://localhost:8080/"
        },
        "id": "4f6hyKsqbAmE",
        "outputId": "1b949bbc-37a5-4911-913d-8cf4c01fa9f5"
      },
      "source": [
        "from sklearn.impute import SimpleImputer\n",
        "imputer = SimpleImputer(strategy='mean')\n",
        "imputer.fit(df_d5[['Car','Bathroom', 'Bedroom2', 'Landsize']] )\n"
      ],
      "execution_count": 100,
      "outputs": [
        {
          "output_type": "execute_result",
          "data": {
            "text/plain": [
              "SimpleImputer(add_indicator=False, copy=True, fill_value=None,\n",
              "              missing_values=nan, strategy='mean', verbose=0)"
            ]
          },
          "metadata": {
            "tags": []
          },
          "execution_count": 100
        }
      ]
    },
    {
      "cell_type": "code",
      "metadata": {
        "colab": {
          "base_uri": "https://localhost:8080/"
        },
        "id": "V963ohpldsYN",
        "outputId": "cdacb050-53a9-4469-a0f0-383d2d6cec2a"
      },
      "source": [
        "df_d5[['Car','Bathroom', 'Bedroom2', 'Landsize']] =imputer.transform(df_d5[['Car','Bathroom', 'Bedroom2', 'Landsize']])\n",
        "round(df_d5.isnull().sum(axis=0).sort_values(ascending=False)/len(df_d5) * 100, 2)"
      ],
      "execution_count": 105,
      "outputs": [
        {
          "output_type": "execute_result",
          "data": {
            "text/plain": [
              "Longtitude       0.15\n",
              "Lattitude        0.15\n",
              "Type             0.00\n",
              "Suburb           0.00\n",
              "Rooms            0.00\n",
              "Regionname       0.00\n",
              "Propertycount    0.00\n",
              "Price            0.00\n",
              "Method           0.00\n",
              "Landsize         0.00\n",
              "Distance         0.00\n",
              "Date             0.00\n",
              "Car              0.00\n",
              "Bedroom2         0.00\n",
              "Bathroom         0.00\n",
              "dtype: float64"
            ]
          },
          "metadata": {
            "tags": []
          },
          "execution_count": 105
        }
      ]
    },
    {
      "cell_type": "code",
      "metadata": {
        "colab": {
          "base_uri": "https://localhost:8080/"
        },
        "id": "Iqin_8Sn6Iki",
        "outputId": "14c3664d-b0ea-43fd-8302-92c4103b6fab"
      },
      "source": [
        "df_d6 = df_d5.dropna(axis = 0, subset = ['Longtitude', 'Lattitude'])\n",
        "\n",
        "round(df_d6.isnull().sum(axis=0).sort_values(ascending=False)/len(df_d6) * 100, 2)"
      ],
      "execution_count": 108,
      "outputs": [
        {
          "output_type": "execute_result",
          "data": {
            "text/plain": [
              "Type             0.0\n",
              "Suburb           0.0\n",
              "Rooms            0.0\n",
              "Regionname       0.0\n",
              "Propertycount    0.0\n",
              "Price            0.0\n",
              "Method           0.0\n",
              "Longtitude       0.0\n",
              "Lattitude        0.0\n",
              "Landsize         0.0\n",
              "Distance         0.0\n",
              "Date             0.0\n",
              "Car              0.0\n",
              "Bedroom2         0.0\n",
              "Bathroom         0.0\n",
              "dtype: float64"
            ]
          },
          "metadata": {
            "tags": []
          },
          "execution_count": 108
        }
      ]
    },
    {
      "cell_type": "markdown",
      "metadata": {
        "id": "e_luTVw3iDs2"
      },
      "source": [
        "# OneHotEncoding"
      ]
    },
    {
      "cell_type": "code",
      "metadata": {
        "colab": {
          "base_uri": "https://localhost:8080/"
        },
        "id": "S4sk453f4L-s",
        "outputId": "67e63947-a539-4485-b64f-f3058fe337c4"
      },
      "source": [
        "for i in df_d6.columns:\n",
        "  cnt=df_d6[i].groupby(df_d6[i]).nunique().count()\n",
        "  if cnt < 10:\n",
        "    print(i,cnt)\n",
        "\n"
      ],
      "execution_count": 109,
      "outputs": [
        {
          "output_type": "stream",
          "text": [
            "Method 5\n",
            "Regionname 8\n",
            "Type 3\n"
          ],
          "name": "stdout"
        }
      ]
    },
    {
      "cell_type": "code",
      "metadata": {
        "colab": {
          "base_uri": "https://localhost:8080/"
        },
        "id": "qIx2pzph8VeI",
        "outputId": "94227ea5-bf79-4339-90bb-44ca239df6ff"
      },
      "source": [
        "df_d6.groupby(['Method']).nunique().index\n"
      ],
      "execution_count": 111,
      "outputs": [
        {
          "output_type": "execute_result",
          "data": {
            "text/plain": [
              "Index(['PI', 'S', 'SA', 'SP', 'VB'], dtype='object', name='Method')"
            ]
          },
          "metadata": {
            "tags": []
          },
          "execution_count": 111
        }
      ]
    },
    {
      "cell_type": "code",
      "metadata": {
        "id": "vna0Qk8deJrf"
      },
      "source": [
        "ls = ['Method', 'Regionname', 'Type']\n",
        "\n",
        "rm_dummy_df1 = pd.get_dummies(df_d6[ls[0]]).add_prefix('Method_')\n",
        "rm_dummy_df2 = pd.get_dummies(df_d6[ls[1]]).add_prefix('Regionname_')\n",
        "rm_dummy_df3 = pd.get_dummies(df_d6[ls[2]]).add_prefix('Type_')\n",
        "\n",
        "df2=df_d6.drop(ls,axis=1)\n",
        "df3=pd.merge(df2,rm_dummy_df1, left_index=True, right_index=True)\n",
        "df4=pd.merge(df3,rm_dummy_df2, left_index=True, right_index=True)\n",
        "df5=pd.merge(df4,rm_dummy_df3, left_index=True, right_index=True)"
      ],
      "execution_count": 112,
      "outputs": []
    },
    {
      "cell_type": "code",
      "metadata": {
        "colab": {
          "base_uri": "https://localhost:8080/"
        },
        "id": "KzDrHp4PgdWQ",
        "outputId": "a01f1864-6620-4b4f-d5a2-3d967f9f0f53"
      },
      "source": [
        "df5.head"
      ],
      "execution_count": 113,
      "outputs": [
        {
          "output_type": "execute_result",
          "data": {
            "text/plain": [
              "<bound method NDFrame.head of        Bathroom  Bedroom2  Car  ... Type_h  Type_t  Type_u\n",
              "1           1.0       2.0  1.0  ...      1       0       0\n",
              "2           1.0       2.0  0.0  ...      1       0       0\n",
              "4           2.0       3.0  0.0  ...      1       0       0\n",
              "5           2.0       3.0  1.0  ...      1       0       0\n",
              "6           1.0       3.0  2.0  ...      1       0       0\n",
              "...         ...       ...  ...  ...    ...     ...     ...\n",
              "23540       2.0       2.0  1.0  ...      0       1       0\n",
              "23541       1.0       4.0  5.0  ...      1       0       0\n",
              "23544       3.0       4.0  2.0  ...      1       0       0\n",
              "23545       1.0       4.0  1.0  ...      1       0       0\n",
              "23546       2.0       4.0  2.0  ...      1       0       0\n",
              "\n",
              "[15064 rows x 28 columns]>"
            ]
          },
          "metadata": {
            "tags": []
          },
          "execution_count": 113
        }
      ]
    },
    {
      "cell_type": "markdown",
      "metadata": {
        "id": "GHZsMy7hp-TZ"
      },
      "source": [
        "# Outlier Dection\n"
      ]
    },
    {
      "cell_type": "code",
      "metadata": {
        "id": "by29DOLFqDeP"
      },
      "source": [
        "outlier_up = df_d6.mean() + df_d6.std() *3 \n",
        "outlier_down = df_d6.mean() - df_d6.std() *3 "
      ],
      "execution_count": 114,
      "outputs": []
    },
    {
      "cell_type": "code",
      "metadata": {
        "colab": {
          "base_uri": "https://localhost:8080/"
        },
        "id": "X6px8crZqji4",
        "outputId": "a3c1d020-af87-4cfd-9469-1d0e8a5a4a0d"
      },
      "source": [
        "outlier_up_found = df_d6[df_d6 > outlier_up]\n",
        "outlier_up_found_count=outlier_up_found.count()\n",
        "outlier_up_found_count\n"
      ],
      "execution_count": 115,
      "outputs": [
        {
          "output_type": "execute_result",
          "data": {
            "text/plain": [
              "Bathroom         153\n",
              "Bedroom2          93\n",
              "Car              150\n",
              "Date               0\n",
              "Distance         297\n",
              "Landsize          26\n",
              "Lattitude         25\n",
              "Longtitude        54\n",
              "Method             0\n",
              "Price            260\n",
              "Propertycount    397\n",
              "Regionname         0\n",
              "Rooms             14\n",
              "Suburb             0\n",
              "Type               0\n",
              "dtype: int64"
            ]
          },
          "metadata": {
            "tags": []
          },
          "execution_count": 115
        }
      ]
    },
    {
      "cell_type": "code",
      "metadata": {
        "colab": {
          "base_uri": "https://localhost:8080/"
        },
        "id": "sv6yYxaUtyuq",
        "outputId": "0215b963-eace-4cdc-e677-15a89c27022e"
      },
      "source": [
        "col='Bathroom'\n",
        "df_d6[df_d6[col] > outlier_up[col] ][col]\n"
      ],
      "execution_count": 116,
      "outputs": [
        {
          "output_type": "execute_result",
          "data": {
            "text/plain": [
              "202      4.0\n",
              "616      7.0\n",
              "642      5.0\n",
              "650      4.0\n",
              "756      5.0\n",
              "        ... \n",
              "22204    5.0\n",
              "22232    4.0\n",
              "22365    4.0\n",
              "22928    4.0\n",
              "23190    5.0\n",
              "Name: Bathroom, Length: 153, dtype: float64"
            ]
          },
          "metadata": {
            "tags": []
          },
          "execution_count": 116
        }
      ]
    },
    {
      "cell_type": "code",
      "metadata": {
        "colab": {
          "base_uri": "https://localhost:8080/"
        },
        "id": "g8ZnNG9dxcuy",
        "outputId": "f8d7f62b-be83-4cf5-b890-064b9a7aac67"
      },
      "source": [
        "# !\n",
        "col='Propertycount'\n",
        "df_d6[df_d6[col] > outlier_up[col] ][col]\n"
      ],
      "execution_count": 118,
      "outputs": [
        {
          "output_type": "execute_result",
          "data": {
            "text/plain": [
              "8322     21650.0\n",
              "8328     21650.0\n",
              "8330     21650.0\n",
              "8333     21650.0\n",
              "8334     21650.0\n",
              "          ...   \n",
              "23399    21650.0\n",
              "23400    21650.0\n",
              "23401    21650.0\n",
              "23402    21650.0\n",
              "23403    21650.0\n",
              "Name: Propertycount, Length: 397, dtype: float64"
            ]
          },
          "metadata": {
            "tags": []
          },
          "execution_count": 118
        }
      ]
    },
    {
      "cell_type": "code",
      "metadata": {
        "colab": {
          "base_uri": "https://localhost:8080/"
        },
        "id": "Z8e1bTfcwDDV",
        "outputId": "b33b65d9-bed8-4c2f-9587-f96ba3d559ce"
      },
      "source": [
        "col='Price'\n",
        "df[df[col] > outlier_up[col] ][col]\n"
      ],
      "execution_count": 119,
      "outputs": [
        {
          "output_type": "execute_result",
          "data": {
            "text/plain": [
              "166      3010000.0\n",
              "178      4735000.0\n",
              "182      3755000.0\n",
              "387      3625000.0\n",
              "388      3000000.0\n",
              "           ...    \n",
              "23256    3080000.0\n",
              "23274    3610000.0\n",
              "23284    3400000.0\n",
              "23433    4500000.0\n",
              "23479    3100000.0\n",
              "Name: Price, Length: 322, dtype: float64"
            ]
          },
          "metadata": {
            "tags": []
          },
          "execution_count": 119
        }
      ]
    },
    {
      "cell_type": "code",
      "metadata": {
        "colab": {
          "base_uri": "https://localhost:8080/"
        },
        "id": "YZJPlZPxq0Go",
        "outputId": "71ab0b03-b261-4069-c747-345710ef2a2a"
      },
      "source": [
        "outlier_down_found = df_d6[df_d6 < outlier_down]\n",
        "outlier_down_found.count()"
      ],
      "execution_count": 120,
      "outputs": [
        {
          "output_type": "execute_result",
          "data": {
            "text/plain": [
              "Bathroom           0\n",
              "Bedroom2          16\n",
              "Car                0\n",
              "Date               0\n",
              "Distance           1\n",
              "Landsize           0\n",
              "Lattitude        133\n",
              "Longtitude       146\n",
              "Method             0\n",
              "Price              0\n",
              "Propertycount      0\n",
              "Regionname         0\n",
              "Rooms              0\n",
              "Suburb             0\n",
              "Type               0\n",
              "dtype: int64"
            ]
          },
          "metadata": {
            "tags": []
          },
          "execution_count": 120
        }
      ]
    },
    {
      "cell_type": "code",
      "metadata": {
        "colab": {
          "base_uri": "https://localhost:8080/"
        },
        "id": "KuJ4CDBRrOUu",
        "outputId": "86a16182-756c-4cc1-d463-7ed2bf1f1e64"
      },
      "source": [
        "col='Bedroom2'\n",
        "df_d6[df_d6[col] < outlier_down[col] ][col]\n"
      ],
      "execution_count": 122,
      "outputs": [
        {
          "output_type": "execute_result",
          "data": {
            "text/plain": [
              "218      0.0\n",
              "1390     0.0\n",
              "1424     0.0\n",
              "1549     0.0\n",
              "3812     0.0\n",
              "5547     0.0\n",
              "10107    0.0\n",
              "11193    0.0\n",
              "11234    0.0\n",
              "12013    0.0\n",
              "12217    0.0\n",
              "13558    0.0\n",
              "14708    0.0\n",
              "15294    0.0\n",
              "16322    0.0\n",
              "18304    0.0\n",
              "Name: Bedroom2, dtype: float64"
            ]
          },
          "metadata": {
            "tags": []
          },
          "execution_count": 122
        }
      ]
    }
  ]
}